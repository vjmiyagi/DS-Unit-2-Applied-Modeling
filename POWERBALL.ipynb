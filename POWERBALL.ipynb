{
  "nbformat": 4,
  "nbformat_minor": 0,
  "metadata": {
    "colab": {
      "name": "POWERBALL.ipynb",
      "provenance": [],
      "collapsed_sections": [],
      "toc_visible": true,
      "authorship_tag": "ABX9TyPINc+8g2EAhSOQmqGwp/K7",
      "include_colab_link": true
    },
    "kernelspec": {
      "name": "python3",
      "display_name": "Python 3"
    }
  },
  "cells": [
    {
      "cell_type": "markdown",
      "metadata": {
        "id": "view-in-github",
        "colab_type": "text"
      },
      "source": [
        "<a href=\"https://colab.research.google.com/github/vjmiyagi/DS-Unit-2-Applied-Modeling/blob/master/POWERBALL.ipynb\" target=\"_parent\"><img src=\"https://colab.research.google.com/assets/colab-badge.svg\" alt=\"Open In Colab\"/></a>"
      ]
    },
    {
      "cell_type": "markdown",
      "metadata": {
        "id": "ybabWig8CGl2",
        "colab_type": "text"
      },
      "source": [
        "# Powerball\n"
      ]
    },
    {
      "cell_type": "code",
      "metadata": {
        "id": "WB8EwAFSApk_",
        "colab_type": "code",
        "colab": {
          "base_uri": "https://localhost:8080/",
          "height": 202
        },
        "outputId": "f8e7e8bb-e93d-48c5-8ee1-41ebe6b117e0"
      },
      "source": [
        "# Imports\n",
        "\n",
        "import numpy as np\n",
        "import pandas as pd\n",
        "from sklearn.model_selection import train_test_split\n",
        "! pip install category_encoders\n",
        "import category_encoders as ce\n",
        "from sklearn.pipeline import make_pipeline\n",
        "from sklearn.tree import DecisionTreeClassifier\n",
        "from sklearn.tree import DecisionTreeRegressor\n",
        "import graphviz\n",
        "from sklearn.tree import export_graphviz\n",
        "from sklearn.impute import SimpleImputer\n",
        "from sklearn import ensemble\n",
        "from sklearn.metrics import roc_auc_score\n",
        "from sklearn.metrics import roc_curve\n",
        "import matplotlib.pyplot as plt\n",
        "import seaborn as sns\n",
        "from sklearn.metrics import mean_squared_error\n",
        "\n"
      ],
      "execution_count": 119,
      "outputs": [
        {
          "output_type": "stream",
          "text": [
            "Requirement already satisfied: category_encoders in /usr/local/lib/python3.6/dist-packages (2.2.2)\n",
            "Requirement already satisfied: patsy>=0.5.1 in /usr/local/lib/python3.6/dist-packages (from category_encoders) (0.5.1)\n",
            "Requirement already satisfied: pandas>=0.21.1 in /usr/local/lib/python3.6/dist-packages (from category_encoders) (1.0.5)\n",
            "Requirement already satisfied: statsmodels>=0.9.0 in /usr/local/lib/python3.6/dist-packages (from category_encoders) (0.10.2)\n",
            "Requirement already satisfied: numpy>=1.14.0 in /usr/local/lib/python3.6/dist-packages (from category_encoders) (1.18.5)\n",
            "Requirement already satisfied: scikit-learn>=0.20.0 in /usr/local/lib/python3.6/dist-packages (from category_encoders) (0.22.2.post1)\n",
            "Requirement already satisfied: scipy>=1.0.0 in /usr/local/lib/python3.6/dist-packages (from category_encoders) (1.4.1)\n",
            "Requirement already satisfied: six in /usr/local/lib/python3.6/dist-packages (from patsy>=0.5.1->category_encoders) (1.12.0)\n",
            "Requirement already satisfied: pytz>=2017.2 in /usr/local/lib/python3.6/dist-packages (from pandas>=0.21.1->category_encoders) (2018.9)\n",
            "Requirement already satisfied: python-dateutil>=2.6.1 in /usr/local/lib/python3.6/dist-packages (from pandas>=0.21.1->category_encoders) (2.8.1)\n",
            "Requirement already satisfied: joblib>=0.11 in /usr/local/lib/python3.6/dist-packages (from scikit-learn>=0.20.0->category_encoders) (0.15.1)\n"
          ],
          "name": "stdout"
        }
      ]
    },
    {
      "cell_type": "code",
      "metadata": {
        "id": "AUi4iNRCCKOu",
        "colab_type": "code",
        "colab": {
          "base_uri": "https://localhost:8080/",
          "height": 34
        },
        "outputId": "4b58a084-1030-4c58-8300-0b007a3eb5ab"
      },
      "source": [
        "url = 'https://raw.githubusercontent.com/vjmiyagi/DS-Unit-2-Applied-Modeling/master/pb2.csv'\n",
        "\n",
        "df = pd.read_csv(url)\n",
        "\n",
        "print(df.shape)"
      ],
      "execution_count": 120,
      "outputs": [
        {
          "output_type": "stream",
          "text": [
            "(493, 49)\n"
          ],
          "name": "stdout"
        }
      ]
    },
    {
      "cell_type": "markdown",
      "metadata": {
        "id": "znSKdmfrC-qR",
        "colab_type": "text"
      },
      "source": [
        "# Regression problem \n",
        "\n",
        "Going with ticketswin (winning tickets for any prize)\n"
      ]
    },
    {
      "cell_type": "code",
      "metadata": {
        "id": "HJBli-ofCqyq",
        "colab_type": "code",
        "colab": {
          "base_uri": "https://localhost:8080/",
          "height": 215
        },
        "outputId": "7151aab1-d461-4489-f7f3-4c55e14e2acb"
      },
      "source": [
        "df.head()\n"
      ],
      "execution_count": 121,
      "outputs": [
        {
          "output_type": "execute_result",
          "data": {
            "text/html": [
              "<div>\n",
              "<style scoped>\n",
              "    .dataframe tbody tr th:only-of-type {\n",
              "        vertical-align: middle;\n",
              "    }\n",
              "\n",
              "    .dataframe tbody tr th {\n",
              "        vertical-align: top;\n",
              "    }\n",
              "\n",
              "    .dataframe thead th {\n",
              "        text-align: right;\n",
              "    }\n",
              "</style>\n",
              "<table border=\"1\" class=\"dataframe\">\n",
              "  <thead>\n",
              "    <tr style=\"text-align: right;\">\n",
              "      <th></th>\n",
              "      <th>year</th>\n",
              "      <th>month</th>\n",
              "      <th>day</th>\n",
              "      <th>b1</th>\n",
              "      <th>b2</th>\n",
              "      <th>b3</th>\n",
              "      <th>b4</th>\n",
              "      <th>b5</th>\n",
              "      <th>pb</th>\n",
              "      <th>pp</th>\n",
              "      <th>tickets</th>\n",
              "      <th>pbpurchase</th>\n",
              "      <th>pppurchase</th>\n",
              "      <th>jackpot</th>\n",
              "      <th>profitloss_jp</th>\n",
              "      <th>winners</th>\n",
              "      <th>rollovers</th>\n",
              "      <th>value</th>\n",
              "      <th>wb5pb_jp</th>\n",
              "      <th>wb5_1000000</th>\n",
              "      <th>wb4pb_50000</th>\n",
              "      <th>wb4_100</th>\n",
              "      <th>wb3pb_100</th>\n",
              "      <th>wb3_7</th>\n",
              "      <th>wb2pb_7</th>\n",
              "      <th>wb1pb_4</th>\n",
              "      <th>wb0pb_4</th>\n",
              "      <th>wb5pp_2000000</th>\n",
              "      <th>wb4pbpp_150000</th>\n",
              "      <th>wb4pp_300</th>\n",
              "      <th>wb3pbpp_300</th>\n",
              "      <th>wb3pp_21</th>\n",
              "      <th>wb2pbpp_21</th>\n",
              "      <th>wb1pbpp_12</th>\n",
              "      <th>wb0pbpp_12</th>\n",
              "      <th>totalwon</th>\n",
              "      <th>ticketswin</th>\n",
              "      <th>wb1prior</th>\n",
              "      <th>wb2prior</th>\n",
              "      <th>wb3prior</th>\n",
              "      <th>wb4prior</th>\n",
              "      <th>wb5prior</th>\n",
              "      <th>wb1win</th>\n",
              "      <th>wb2win</th>\n",
              "      <th>wb3win</th>\n",
              "      <th>wb4win</th>\n",
              "      <th>wb5win</th>\n",
              "      <th>pbprevdraw</th>\n",
              "      <th>pbprevwin</th>\n",
              "    </tr>\n",
              "  </thead>\n",
              "  <tbody>\n",
              "    <tr>\n",
              "      <th>0</th>\n",
              "      <td>2020</td>\n",
              "      <td>6</td>\n",
              "      <td>20</td>\n",
              "      <td>67</td>\n",
              "      <td>10</td>\n",
              "      <td>31</td>\n",
              "      <td>63</td>\n",
              "      <td>41</td>\n",
              "      <td>5</td>\n",
              "      <td>3</td>\n",
              "      <td>10374959</td>\n",
              "      <td>20749918</td>\n",
              "      <td>2678995</td>\n",
              "      <td>25600000</td>\n",
              "      <td>49579522</td>\n",
              "      <td>0</td>\n",
              "      <td>3</td>\n",
              "      <td>-1.59</td>\n",
              "      <td>0</td>\n",
              "      <td>1</td>\n",
              "      <td>10</td>\n",
              "      <td>204</td>\n",
              "      <td>453</td>\n",
              "      <td>11575</td>\n",
              "      <td>10626</td>\n",
              "      <td>86054</td>\n",
              "      <td>214749</td>\n",
              "      <td>0</td>\n",
              "      <td>1</td>\n",
              "      <td>45</td>\n",
              "      <td>149</td>\n",
              "      <td>3788</td>\n",
              "      <td>3660</td>\n",
              "      <td>29828</td>\n",
              "      <td>74142</td>\n",
              "      <td>4536567</td>\n",
              "      <td>435285</td>\n",
              "      <td>37</td>\n",
              "      <td>38</td>\n",
              "      <td>31</td>\n",
              "      <td>42</td>\n",
              "      <td>43</td>\n",
              "      <td>1</td>\n",
              "      <td>3</td>\n",
              "      <td>2</td>\n",
              "      <td>0</td>\n",
              "      <td>2</td>\n",
              "      <td>15</td>\n",
              "      <td>2</td>\n",
              "    </tr>\n",
              "    <tr>\n",
              "      <th>1</th>\n",
              "      <td>2020</td>\n",
              "      <td>6</td>\n",
              "      <td>17</td>\n",
              "      <td>10</td>\n",
              "      <td>7</td>\n",
              "      <td>68</td>\n",
              "      <td>64</td>\n",
              "      <td>63</td>\n",
              "      <td>10</td>\n",
              "      <td>3</td>\n",
              "      <td>9243787</td>\n",
              "      <td>18487574</td>\n",
              "      <td>2357707</td>\n",
              "      <td>22000000</td>\n",
              "      <td>30687176</td>\n",
              "      <td>0</td>\n",
              "      <td>2</td>\n",
              "      <td>-1.60</td>\n",
              "      <td>0</td>\n",
              "      <td>1</td>\n",
              "      <td>5</td>\n",
              "      <td>145</td>\n",
              "      <td>424</td>\n",
              "      <td>10170</td>\n",
              "      <td>9586</td>\n",
              "      <td>78336</td>\n",
              "      <td>184812</td>\n",
              "      <td>0</td>\n",
              "      <td>1</td>\n",
              "      <td>52</td>\n",
              "      <td>127</td>\n",
              "      <td>3469</td>\n",
              "      <td>3495</td>\n",
              "      <td>27703</td>\n",
              "      <td>63511</td>\n",
              "      <td>3942296</td>\n",
              "      <td>381837</td>\n",
              "      <td>37</td>\n",
              "      <td>35</td>\n",
              "      <td>44</td>\n",
              "      <td>47</td>\n",
              "      <td>41</td>\n",
              "      <td>3</td>\n",
              "      <td>1</td>\n",
              "      <td>4</td>\n",
              "      <td>1</td>\n",
              "      <td>0</td>\n",
              "      <td>20</td>\n",
              "      <td>2</td>\n",
              "    </tr>\n",
              "    <tr>\n",
              "      <th>2</th>\n",
              "      <td>2020</td>\n",
              "      <td>6</td>\n",
              "      <td>13</td>\n",
              "      <td>65</td>\n",
              "      <td>12</td>\n",
              "      <td>2</td>\n",
              "      <td>32</td>\n",
              "      <td>50</td>\n",
              "      <td>5</td>\n",
              "      <td>3</td>\n",
              "      <td>10006606</td>\n",
              "      <td>20013212</td>\n",
              "      <td>2567607</td>\n",
              "      <td>20000000</td>\n",
              "      <td>13784191</td>\n",
              "      <td>0</td>\n",
              "      <td>1</td>\n",
              "      <td>-1.61</td>\n",
              "      <td>0</td>\n",
              "      <td>0</td>\n",
              "      <td>6</td>\n",
              "      <td>157</td>\n",
              "      <td>506</td>\n",
              "      <td>12148</td>\n",
              "      <td>11191</td>\n",
              "      <td>87093</td>\n",
              "      <td>201850</td>\n",
              "      <td>1</td>\n",
              "      <td>1</td>\n",
              "      <td>70</td>\n",
              "      <td>168</td>\n",
              "      <td>4198</td>\n",
              "      <td>3841</td>\n",
              "      <td>29584</td>\n",
              "      <td>69176</td>\n",
              "      <td>5260784</td>\n",
              "      <td>419990</td>\n",
              "      <td>28</td>\n",
              "      <td>42</td>\n",
              "      <td>33</td>\n",
              "      <td>52</td>\n",
              "      <td>38</td>\n",
              "      <td>2</td>\n",
              "      <td>5</td>\n",
              "      <td>3</td>\n",
              "      <td>5</td>\n",
              "      <td>0</td>\n",
              "      <td>14</td>\n",
              "      <td>2</td>\n",
              "    </tr>\n",
              "    <tr>\n",
              "      <th>3</th>\n",
              "      <td>2020</td>\n",
              "      <td>6</td>\n",
              "      <td>10</td>\n",
              "      <td>33</td>\n",
              "      <td>10</td>\n",
              "      <td>41</td>\n",
              "      <td>54</td>\n",
              "      <td>52</td>\n",
              "      <td>18</td>\n",
              "      <td>5</td>\n",
              "      <td>9588292</td>\n",
              "      <td>19176584</td>\n",
              "      <td>2394843</td>\n",
              "      <td>22000000</td>\n",
              "      <td>-3535844</td>\n",
              "      <td>1</td>\n",
              "      <td>0</td>\n",
              "      <td>-1.60</td>\n",
              "      <td>1</td>\n",
              "      <td>0</td>\n",
              "      <td>6</td>\n",
              "      <td>143</td>\n",
              "      <td>485</td>\n",
              "      <td>11432</td>\n",
              "      <td>9625</td>\n",
              "      <td>77172</td>\n",
              "      <td>184121</td>\n",
              "      <td>0</td>\n",
              "      <td>2</td>\n",
              "      <td>45</td>\n",
              "      <td>144</td>\n",
              "      <td>3668</td>\n",
              "      <td>3280</td>\n",
              "      <td>25680</td>\n",
              "      <td>61761</td>\n",
              "      <td>25107271</td>\n",
              "      <td>377565</td>\n",
              "      <td>36</td>\n",
              "      <td>36</td>\n",
              "      <td>42</td>\n",
              "      <td>38</td>\n",
              "      <td>34</td>\n",
              "      <td>3</td>\n",
              "      <td>3</td>\n",
              "      <td>2</td>\n",
              "      <td>4</td>\n",
              "      <td>6</td>\n",
              "      <td>21</td>\n",
              "      <td>1</td>\n",
              "    </tr>\n",
              "    <tr>\n",
              "      <th>4</th>\n",
              "      <td>2020</td>\n",
              "      <td>6</td>\n",
              "      <td>6</td>\n",
              "      <td>68</td>\n",
              "      <td>38</td>\n",
              "      <td>69</td>\n",
              "      <td>1</td>\n",
              "      <td>17</td>\n",
              "      <td>18</td>\n",
              "      <td>2</td>\n",
              "      <td>10675612</td>\n",
              "      <td>21351224</td>\n",
              "      <td>2683881</td>\n",
              "      <td>20000000</td>\n",
              "      <td>-95453540</td>\n",
              "      <td>0</td>\n",
              "      <td>1</td>\n",
              "      <td>-1.61</td>\n",
              "      <td>0</td>\n",
              "      <td>0</td>\n",
              "      <td>5</td>\n",
              "      <td>183</td>\n",
              "      <td>471</td>\n",
              "      <td>12367</td>\n",
              "      <td>10504</td>\n",
              "      <td>84414</td>\n",
              "      <td>204948</td>\n",
              "      <td>1</td>\n",
              "      <td>3</td>\n",
              "      <td>82</td>\n",
              "      <td>179</td>\n",
              "      <td>4100</td>\n",
              "      <td>3555</td>\n",
              "      <td>28303</td>\n",
              "      <td>68727</td>\n",
              "      <td>5486360</td>\n",
              "      <td>417842</td>\n",
              "      <td>43</td>\n",
              "      <td>31</td>\n",
              "      <td>46</td>\n",
              "      <td>36</td>\n",
              "      <td>37</td>\n",
              "      <td>4</td>\n",
              "      <td>2</td>\n",
              "      <td>0</td>\n",
              "      <td>3</td>\n",
              "      <td>5</td>\n",
              "      <td>20</td>\n",
              "      <td>1</td>\n",
              "    </tr>\n",
              "  </tbody>\n",
              "</table>\n",
              "</div>"
            ],
            "text/plain": [
              "   year  month  day  b1  b2  ...  wb3win  wb4win  wb5win  pbprevdraw  pbprevwin\n",
              "0  2020      6   20  67  10  ...       2       0       2          15          2\n",
              "1  2020      6   17  10   7  ...       4       1       0          20          2\n",
              "2  2020      6   13  65  12  ...       3       5       0          14          2\n",
              "3  2020      6   10  33  10  ...       2       4       6          21          1\n",
              "4  2020      6    6  68  38  ...       0       3       5          20          1\n",
              "\n",
              "[5 rows x 49 columns]"
            ]
          },
          "metadata": {
            "tags": []
          },
          "execution_count": 121
        }
      ]
    },
    {
      "cell_type": "code",
      "metadata": {
        "id": "hP0IZbB1ZoKR",
        "colab_type": "code",
        "colab": {
          "base_uri": "https://localhost:8080/",
          "height": 218
        },
        "outputId": "8ad2a150-4f6e-4a5e-c32c-0cd1d61542af"
      },
      "source": [
        "df['WinNoPP'] = df['wb5pb_jp'] + \\\n",
        "                df['wb5_1000000'] + \\\n",
        "                df['wb4pb_50000'] + \\\n",
        "                df['wb4_100'] + \\\n",
        "                df['wb3pb_100'] + \\\n",
        "                df['wb3_7'] + \\\n",
        "                df['wb2pb_7'] + \\\n",
        "                df['wb1pb_4'] + \\\n",
        "                df['wb0pb_4']    \n",
        "\n",
        "df['WinNoPP']"
      ],
      "execution_count": 122,
      "outputs": [
        {
          "output_type": "execute_result",
          "data": {
            "text/plain": [
              "0      323672\n",
              "1      283479\n",
              "2      312951\n",
              "3      282985\n",
              "4      312892\n",
              "        ...  \n",
              "488    408870\n",
              "489    347475\n",
              "490    360627\n",
              "491    343186\n",
              "492    318229\n",
              "Name: WinNoPP, Length: 493, dtype: int64"
            ]
          },
          "metadata": {
            "tags": []
          },
          "execution_count": 122
        }
      ]
    },
    {
      "cell_type": "code",
      "metadata": {
        "id": "asNQt3vcZoTO",
        "colab_type": "code",
        "colab": {
          "base_uri": "https://localhost:8080/",
          "height": 218
        },
        "outputId": "088b93ed-717e-47cd-afd6-2767e43ecc44"
      },
      "source": [
        "df['WinPP'] = df['wb5pp_2000000'] + \\\n",
        "              df['wb4pbpp_150000'] + \\\n",
        "              df['wb4pp_300'] + \\\n",
        "              df['wb3pbpp_300'] + \\\n",
        "              df['wb3pp_21'] + \\\n",
        "              df['wb2pbpp_21'] + \\\n",
        "              df['wb1pbpp_12'] + \\\n",
        "              df['wb0pbpp_12']\n",
        "df['WinPP']"
      ],
      "execution_count": 123,
      "outputs": [
        {
          "output_type": "execute_result",
          "data": {
            "text/plain": [
              "0      111613\n",
              "1       98358\n",
              "2      107039\n",
              "3       94580\n",
              "4      104950\n",
              "        ...  \n",
              "488    107297\n",
              "489     87629\n",
              "490     92359\n",
              "491     87714\n",
              "492     81655\n",
              "Name: WinPP, Length: 493, dtype: int64"
            ]
          },
          "metadata": {
            "tags": []
          },
          "execution_count": 123
        }
      ]
    },
    {
      "cell_type": "code",
      "metadata": {
        "id": "Wr0iIp1acXIL",
        "colab_type": "code",
        "colab": {
          "base_uri": "https://localhost:8080/",
          "height": 215
        },
        "outputId": "29913d6f-c149-493e-c797-3d803b7ef009"
      },
      "source": [
        "df.head()"
      ],
      "execution_count": 124,
      "outputs": [
        {
          "output_type": "execute_result",
          "data": {
            "text/html": [
              "<div>\n",
              "<style scoped>\n",
              "    .dataframe tbody tr th:only-of-type {\n",
              "        vertical-align: middle;\n",
              "    }\n",
              "\n",
              "    .dataframe tbody tr th {\n",
              "        vertical-align: top;\n",
              "    }\n",
              "\n",
              "    .dataframe thead th {\n",
              "        text-align: right;\n",
              "    }\n",
              "</style>\n",
              "<table border=\"1\" class=\"dataframe\">\n",
              "  <thead>\n",
              "    <tr style=\"text-align: right;\">\n",
              "      <th></th>\n",
              "      <th>year</th>\n",
              "      <th>month</th>\n",
              "      <th>day</th>\n",
              "      <th>b1</th>\n",
              "      <th>b2</th>\n",
              "      <th>b3</th>\n",
              "      <th>b4</th>\n",
              "      <th>b5</th>\n",
              "      <th>pb</th>\n",
              "      <th>pp</th>\n",
              "      <th>tickets</th>\n",
              "      <th>pbpurchase</th>\n",
              "      <th>pppurchase</th>\n",
              "      <th>jackpot</th>\n",
              "      <th>profitloss_jp</th>\n",
              "      <th>winners</th>\n",
              "      <th>rollovers</th>\n",
              "      <th>value</th>\n",
              "      <th>wb5pb_jp</th>\n",
              "      <th>wb5_1000000</th>\n",
              "      <th>wb4pb_50000</th>\n",
              "      <th>wb4_100</th>\n",
              "      <th>wb3pb_100</th>\n",
              "      <th>wb3_7</th>\n",
              "      <th>wb2pb_7</th>\n",
              "      <th>wb1pb_4</th>\n",
              "      <th>wb0pb_4</th>\n",
              "      <th>wb5pp_2000000</th>\n",
              "      <th>wb4pbpp_150000</th>\n",
              "      <th>wb4pp_300</th>\n",
              "      <th>wb3pbpp_300</th>\n",
              "      <th>wb3pp_21</th>\n",
              "      <th>wb2pbpp_21</th>\n",
              "      <th>wb1pbpp_12</th>\n",
              "      <th>wb0pbpp_12</th>\n",
              "      <th>totalwon</th>\n",
              "      <th>ticketswin</th>\n",
              "      <th>wb1prior</th>\n",
              "      <th>wb2prior</th>\n",
              "      <th>wb3prior</th>\n",
              "      <th>wb4prior</th>\n",
              "      <th>wb5prior</th>\n",
              "      <th>wb1win</th>\n",
              "      <th>wb2win</th>\n",
              "      <th>wb3win</th>\n",
              "      <th>wb4win</th>\n",
              "      <th>wb5win</th>\n",
              "      <th>pbprevdraw</th>\n",
              "      <th>pbprevwin</th>\n",
              "      <th>WinNoPP</th>\n",
              "      <th>WinPP</th>\n",
              "    </tr>\n",
              "  </thead>\n",
              "  <tbody>\n",
              "    <tr>\n",
              "      <th>0</th>\n",
              "      <td>2020</td>\n",
              "      <td>6</td>\n",
              "      <td>20</td>\n",
              "      <td>67</td>\n",
              "      <td>10</td>\n",
              "      <td>31</td>\n",
              "      <td>63</td>\n",
              "      <td>41</td>\n",
              "      <td>5</td>\n",
              "      <td>3</td>\n",
              "      <td>10374959</td>\n",
              "      <td>20749918</td>\n",
              "      <td>2678995</td>\n",
              "      <td>25600000</td>\n",
              "      <td>49579522</td>\n",
              "      <td>0</td>\n",
              "      <td>3</td>\n",
              "      <td>-1.59</td>\n",
              "      <td>0</td>\n",
              "      <td>1</td>\n",
              "      <td>10</td>\n",
              "      <td>204</td>\n",
              "      <td>453</td>\n",
              "      <td>11575</td>\n",
              "      <td>10626</td>\n",
              "      <td>86054</td>\n",
              "      <td>214749</td>\n",
              "      <td>0</td>\n",
              "      <td>1</td>\n",
              "      <td>45</td>\n",
              "      <td>149</td>\n",
              "      <td>3788</td>\n",
              "      <td>3660</td>\n",
              "      <td>29828</td>\n",
              "      <td>74142</td>\n",
              "      <td>4536567</td>\n",
              "      <td>435285</td>\n",
              "      <td>37</td>\n",
              "      <td>38</td>\n",
              "      <td>31</td>\n",
              "      <td>42</td>\n",
              "      <td>43</td>\n",
              "      <td>1</td>\n",
              "      <td>3</td>\n",
              "      <td>2</td>\n",
              "      <td>0</td>\n",
              "      <td>2</td>\n",
              "      <td>15</td>\n",
              "      <td>2</td>\n",
              "      <td>323672</td>\n",
              "      <td>111613</td>\n",
              "    </tr>\n",
              "    <tr>\n",
              "      <th>1</th>\n",
              "      <td>2020</td>\n",
              "      <td>6</td>\n",
              "      <td>17</td>\n",
              "      <td>10</td>\n",
              "      <td>7</td>\n",
              "      <td>68</td>\n",
              "      <td>64</td>\n",
              "      <td>63</td>\n",
              "      <td>10</td>\n",
              "      <td>3</td>\n",
              "      <td>9243787</td>\n",
              "      <td>18487574</td>\n",
              "      <td>2357707</td>\n",
              "      <td>22000000</td>\n",
              "      <td>30687176</td>\n",
              "      <td>0</td>\n",
              "      <td>2</td>\n",
              "      <td>-1.60</td>\n",
              "      <td>0</td>\n",
              "      <td>1</td>\n",
              "      <td>5</td>\n",
              "      <td>145</td>\n",
              "      <td>424</td>\n",
              "      <td>10170</td>\n",
              "      <td>9586</td>\n",
              "      <td>78336</td>\n",
              "      <td>184812</td>\n",
              "      <td>0</td>\n",
              "      <td>1</td>\n",
              "      <td>52</td>\n",
              "      <td>127</td>\n",
              "      <td>3469</td>\n",
              "      <td>3495</td>\n",
              "      <td>27703</td>\n",
              "      <td>63511</td>\n",
              "      <td>3942296</td>\n",
              "      <td>381837</td>\n",
              "      <td>37</td>\n",
              "      <td>35</td>\n",
              "      <td>44</td>\n",
              "      <td>47</td>\n",
              "      <td>41</td>\n",
              "      <td>3</td>\n",
              "      <td>1</td>\n",
              "      <td>4</td>\n",
              "      <td>1</td>\n",
              "      <td>0</td>\n",
              "      <td>20</td>\n",
              "      <td>2</td>\n",
              "      <td>283479</td>\n",
              "      <td>98358</td>\n",
              "    </tr>\n",
              "    <tr>\n",
              "      <th>2</th>\n",
              "      <td>2020</td>\n",
              "      <td>6</td>\n",
              "      <td>13</td>\n",
              "      <td>65</td>\n",
              "      <td>12</td>\n",
              "      <td>2</td>\n",
              "      <td>32</td>\n",
              "      <td>50</td>\n",
              "      <td>5</td>\n",
              "      <td>3</td>\n",
              "      <td>10006606</td>\n",
              "      <td>20013212</td>\n",
              "      <td>2567607</td>\n",
              "      <td>20000000</td>\n",
              "      <td>13784191</td>\n",
              "      <td>0</td>\n",
              "      <td>1</td>\n",
              "      <td>-1.61</td>\n",
              "      <td>0</td>\n",
              "      <td>0</td>\n",
              "      <td>6</td>\n",
              "      <td>157</td>\n",
              "      <td>506</td>\n",
              "      <td>12148</td>\n",
              "      <td>11191</td>\n",
              "      <td>87093</td>\n",
              "      <td>201850</td>\n",
              "      <td>1</td>\n",
              "      <td>1</td>\n",
              "      <td>70</td>\n",
              "      <td>168</td>\n",
              "      <td>4198</td>\n",
              "      <td>3841</td>\n",
              "      <td>29584</td>\n",
              "      <td>69176</td>\n",
              "      <td>5260784</td>\n",
              "      <td>419990</td>\n",
              "      <td>28</td>\n",
              "      <td>42</td>\n",
              "      <td>33</td>\n",
              "      <td>52</td>\n",
              "      <td>38</td>\n",
              "      <td>2</td>\n",
              "      <td>5</td>\n",
              "      <td>3</td>\n",
              "      <td>5</td>\n",
              "      <td>0</td>\n",
              "      <td>14</td>\n",
              "      <td>2</td>\n",
              "      <td>312951</td>\n",
              "      <td>107039</td>\n",
              "    </tr>\n",
              "    <tr>\n",
              "      <th>3</th>\n",
              "      <td>2020</td>\n",
              "      <td>6</td>\n",
              "      <td>10</td>\n",
              "      <td>33</td>\n",
              "      <td>10</td>\n",
              "      <td>41</td>\n",
              "      <td>54</td>\n",
              "      <td>52</td>\n",
              "      <td>18</td>\n",
              "      <td>5</td>\n",
              "      <td>9588292</td>\n",
              "      <td>19176584</td>\n",
              "      <td>2394843</td>\n",
              "      <td>22000000</td>\n",
              "      <td>-3535844</td>\n",
              "      <td>1</td>\n",
              "      <td>0</td>\n",
              "      <td>-1.60</td>\n",
              "      <td>1</td>\n",
              "      <td>0</td>\n",
              "      <td>6</td>\n",
              "      <td>143</td>\n",
              "      <td>485</td>\n",
              "      <td>11432</td>\n",
              "      <td>9625</td>\n",
              "      <td>77172</td>\n",
              "      <td>184121</td>\n",
              "      <td>0</td>\n",
              "      <td>2</td>\n",
              "      <td>45</td>\n",
              "      <td>144</td>\n",
              "      <td>3668</td>\n",
              "      <td>3280</td>\n",
              "      <td>25680</td>\n",
              "      <td>61761</td>\n",
              "      <td>25107271</td>\n",
              "      <td>377565</td>\n",
              "      <td>36</td>\n",
              "      <td>36</td>\n",
              "      <td>42</td>\n",
              "      <td>38</td>\n",
              "      <td>34</td>\n",
              "      <td>3</td>\n",
              "      <td>3</td>\n",
              "      <td>2</td>\n",
              "      <td>4</td>\n",
              "      <td>6</td>\n",
              "      <td>21</td>\n",
              "      <td>1</td>\n",
              "      <td>282985</td>\n",
              "      <td>94580</td>\n",
              "    </tr>\n",
              "    <tr>\n",
              "      <th>4</th>\n",
              "      <td>2020</td>\n",
              "      <td>6</td>\n",
              "      <td>6</td>\n",
              "      <td>68</td>\n",
              "      <td>38</td>\n",
              "      <td>69</td>\n",
              "      <td>1</td>\n",
              "      <td>17</td>\n",
              "      <td>18</td>\n",
              "      <td>2</td>\n",
              "      <td>10675612</td>\n",
              "      <td>21351224</td>\n",
              "      <td>2683881</td>\n",
              "      <td>20000000</td>\n",
              "      <td>-95453540</td>\n",
              "      <td>0</td>\n",
              "      <td>1</td>\n",
              "      <td>-1.61</td>\n",
              "      <td>0</td>\n",
              "      <td>0</td>\n",
              "      <td>5</td>\n",
              "      <td>183</td>\n",
              "      <td>471</td>\n",
              "      <td>12367</td>\n",
              "      <td>10504</td>\n",
              "      <td>84414</td>\n",
              "      <td>204948</td>\n",
              "      <td>1</td>\n",
              "      <td>3</td>\n",
              "      <td>82</td>\n",
              "      <td>179</td>\n",
              "      <td>4100</td>\n",
              "      <td>3555</td>\n",
              "      <td>28303</td>\n",
              "      <td>68727</td>\n",
              "      <td>5486360</td>\n",
              "      <td>417842</td>\n",
              "      <td>43</td>\n",
              "      <td>31</td>\n",
              "      <td>46</td>\n",
              "      <td>36</td>\n",
              "      <td>37</td>\n",
              "      <td>4</td>\n",
              "      <td>2</td>\n",
              "      <td>0</td>\n",
              "      <td>3</td>\n",
              "      <td>5</td>\n",
              "      <td>20</td>\n",
              "      <td>1</td>\n",
              "      <td>312892</td>\n",
              "      <td>104950</td>\n",
              "    </tr>\n",
              "  </tbody>\n",
              "</table>\n",
              "</div>"
            ],
            "text/plain": [
              "   year  month  day  b1  b2  ...  wb5win  pbprevdraw  pbprevwin  WinNoPP   WinPP\n",
              "0  2020      6   20  67  10  ...       2          15          2   323672  111613\n",
              "1  2020      6   17  10   7  ...       0          20          2   283479   98358\n",
              "2  2020      6   13  65  12  ...       0          14          2   312951  107039\n",
              "3  2020      6   10  33  10  ...       6          21          1   282985   94580\n",
              "4  2020      6    6  68  38  ...       5          20          1   312892  104950\n",
              "\n",
              "[5 rows x 51 columns]"
            ]
          },
          "metadata": {
            "tags": []
          },
          "execution_count": 124
        }
      ]
    },
    {
      "cell_type": "code",
      "metadata": {
        "id": "nK79chwCzTH2",
        "colab_type": "code",
        "colab": {
          "base_uri": "https://localhost:8080/",
          "height": 185
        },
        "outputId": "234293ef-5b43-4efe-e7d5-a6621e40681c"
      },
      "source": [
        "df.columns"
      ],
      "execution_count": 125,
      "outputs": [
        {
          "output_type": "execute_result",
          "data": {
            "text/plain": [
              "Index(['year', 'month', 'day', 'b1', 'b2', 'b3', 'b4', 'b5', 'pb', 'pp',\n",
              "       'tickets', 'pbpurchase', 'pppurchase', 'jackpot', 'profitloss_jp',\n",
              "       'winners', 'rollovers', 'value', 'wb5pb_jp', 'wb5_1000000',\n",
              "       'wb4pb_50000', 'wb4_100', 'wb3pb_100', 'wb3_7', 'wb2pb_7', 'wb1pb_4',\n",
              "       'wb0pb_4', 'wb5pp_2000000', 'wb4pbpp_150000', 'wb4pp_300',\n",
              "       'wb3pbpp_300', 'wb3pp_21', 'wb2pbpp_21', 'wb1pbpp_12', 'wb0pbpp_12',\n",
              "       'totalwon', 'ticketswin', 'wb1prior', 'wb2prior', 'wb3prior',\n",
              "       'wb4prior', 'wb5prior', 'wb1win', 'wb2win', 'wb3win', 'wb4win',\n",
              "       'wb5win', 'pbprevdraw', 'pbprevwin', 'WinNoPP', 'WinPP'],\n",
              "      dtype='object')"
            ]
          },
          "metadata": {
            "tags": []
          },
          "execution_count": 125
        }
      ]
    },
    {
      "cell_type": "code",
      "metadata": {
        "id": "5CxvzlvfDZfa",
        "colab_type": "code",
        "colab": {}
      },
      "source": [
        "target = 'ticketswin'\n",
        "\n",
        "features = ['tickets']"
      ],
      "execution_count": 126,
      "outputs": []
    },
    {
      "cell_type": "code",
      "metadata": {
        "id": "FtYHAp59IFsc",
        "colab_type": "code",
        "colab": {
          "base_uri": "https://localhost:8080/",
          "height": 34
        },
        "outputId": "066a1637-8d49-45fb-b329-6f966d8e4887"
      },
      "source": [
        "guess = df[target].mean()\n",
        "guess"
      ],
      "execution_count": 127,
      "outputs": [
        {
          "output_type": "execute_result",
          "data": {
            "text/plain": [
              "884867.3387423935"
            ]
          },
          "metadata": {
            "tags": []
          },
          "execution_count": 127
        }
      ]
    },
    {
      "cell_type": "code",
      "metadata": {
        "id": "a6_zrrovIFvg",
        "colab_type": "code",
        "colab": {
          "base_uri": "https://localhost:8080/",
          "height": 218
        },
        "outputId": "6abbca68-1af4-4212-80d8-055760fc683f"
      },
      "source": [
        "errors = guess - df[target]\n",
        "errors"
      ],
      "execution_count": 128,
      "outputs": [
        {
          "output_type": "execute_result",
          "data": {
            "text/plain": [
              "0      449582.338742\n",
              "1      503030.338742\n",
              "2      464877.338742\n",
              "3      507302.338742\n",
              "4      467025.338742\n",
              "           ...      \n",
              "488    368700.338742\n",
              "489    449763.338742\n",
              "490    431881.338742\n",
              "491    453967.338742\n",
              "492    484983.338742\n",
              "Name: ticketswin, Length: 493, dtype: float64"
            ]
          },
          "metadata": {
            "tags": []
          },
          "execution_count": 128
        }
      ]
    },
    {
      "cell_type": "code",
      "metadata": {
        "id": "n_1KrS1rIFyI",
        "colab_type": "code",
        "colab": {}
      },
      "source": [
        "mae = errors.abs().mean()"
      ],
      "execution_count": 129,
      "outputs": []
    },
    {
      "cell_type": "code",
      "metadata": {
        "id": "Tmi2ZXLxIF1K",
        "colab_type": "code",
        "colab": {
          "base_uri": "https://localhost:8080/",
          "height": 34
        },
        "outputId": "f10446f5-f9e2-4b06-c4f6-c403cba2f4d8"
      },
      "source": [
        "mae"
      ],
      "execution_count": 130,
      "outputs": [
        {
          "output_type": "execute_result",
          "data": {
            "text/plain": [
              "494261.3773354357"
            ]
          },
          "metadata": {
            "tags": []
          },
          "execution_count": 130
        }
      ]
    },
    {
      "cell_type": "code",
      "metadata": {
        "id": "kXECqjzQIF4I",
        "colab_type": "code",
        "colab": {
          "base_uri": "https://localhost:8080/",
          "height": 84
        },
        "outputId": "7aa35075-7647-41df-d9bb-40530a6f4726"
      },
      "source": [
        "print(f'If we just guessed the mean of winning tickets, or {guess:,.0f},')\n",
        "print(f'we would be off by {mae:,.0f} on average.')\n",
        "print(f'This is using data with maximimum  winning tickets of {max(df[target]):,.0f}')\n",
        "print(f'and minimum number of winning tickets of {min(df[target]):,.0f}')"
      ],
      "execution_count": 131,
      "outputs": [
        {
          "output_type": "stream",
          "text": [
            "If we just guessed the mean of winning tickets, or 884,867,\n",
            "we would be off by 494,261 on average.\n",
            "This is using data with maximimum  winning tickets of 26,110,646\n",
            "and minimum number of winning tickets of 294,091\n"
          ],
          "name": "stdout"
        }
      ]
    },
    {
      "cell_type": "code",
      "metadata": {
        "id": "E00PL8SWIF64",
        "colab_type": "code",
        "colab": {
          "base_uri": "https://localhost:8080/",
          "height": 542
        },
        "outputId": "52ec31a8-6bf5-40ce-eabe-a8c12e7d68b5"
      },
      "source": [
        "import plotly.express as px\n",
        "px.scatter(df, x='tickets', y = target, trendline='ols')"
      ],
      "execution_count": 132,
      "outputs": [
        {
          "output_type": "display_data",
          "data": {
            "text/html": [
              "<html>\n",
              "<head><meta charset=\"utf-8\" /></head>\n",
              "<body>\n",
              "    <div>\n",
              "            <script src=\"https://cdnjs.cloudflare.com/ajax/libs/mathjax/2.7.5/MathJax.js?config=TeX-AMS-MML_SVG\"></script><script type=\"text/javascript\">if (window.MathJax) {MathJax.Hub.Config({SVG: {font: \"STIX-Web\"}});}</script>\n",
              "                <script type=\"text/javascript\">window.PlotlyConfig = {MathJaxConfig: 'local'};</script>\n",
              "        <script src=\"https://cdn.plot.ly/plotly-latest.min.js\"></script>    \n",
              "            <div id=\"5028df1f-6af7-4b3f-8341-afa33f922094\" class=\"plotly-graph-div\" style=\"height:525px; width:100%;\"></div>\n",
              "            <script type=\"text/javascript\">\n",
              "                \n",
              "                    window.PLOTLYENV=window.PLOTLYENV || {};\n",
              "                    \n",
              "                if (document.getElementById(\"5028df1f-6af7-4b3f-8341-afa33f922094\")) {\n",
              "                    Plotly.newPlot(\n",
              "                        '5028df1f-6af7-4b3f-8341-afa33f922094',\n",
              "                        [{\"hoverlabel\": {\"namelength\": 0}, \"hovertemplate\": \"tickets=%{x}<br>ticketswin=%{y}\", \"legendgroup\": \"\", \"marker\": {\"color\": \"#636efa\", \"symbol\": \"circle\"}, \"mode\": \"markers\", \"name\": \"\", \"showlegend\": false, \"type\": \"scatter\", \"x\": [10374959, 9243787, 10006606, 9588292, 10675612, 12003071, 12966773, 11117080, 12095670, 10064069, 10841380, 9502702, 10374882, 8986652, 9946987, 8353661, 8976518, 7885946, 8739665, 7569646, 8554534, 10906522, 11790833, 10875742, 11820223, 10847664, 12443051, 12137341, 14549382, 13334186, 14830583, 12523260, 13419449, 11511704, 12482210, 10766028, 11591554, 11224983, 12270206, 10931842, 13389560, 35133109, 32362367, 27701764, 26961131, 23291790, 22687261, 20715540, 21381004, 20319594, 19170286, 17300095, 16491521, 14175783, 15434576, 13237112, 14192913, 12495867, 12635365, 12991538, 12133899, 10362403, 11468659, 9653788, 10952934, 9808532, 15734285, 13555890, 14715417, 13244722, 14279929, 12822249, 12802240, 11145936, 12200133, 10469611, 11201517, 9677193, 12066156, 10448681, 11757507, 10069020, 11237252, 10720028, 12313173, 10262535, 11519359, 10060280, 15538859, 13887244, 15017584, 13215128, 14509873, 11661262, 12418674, 10565326, 11695165, 10473853, 17158408, 15254656, 15471783, 15284366, 15916525, 14228217, 15158487, 12768620, 13516066, 11647178, 13561287, 12753192, 27870571, 21569236, 22506098, 19233422, 20130437, 18322632, 19603952, 17184552, 18333322, 16019000, 17204152, 15122600, 16422502, 14472208, 15663006, 13260953, 14525590, 13218913, 14970003, 134060942, 90298137, 71029841, 46498176, 37293378, 34396266, 26004175, 26259031, 22296012, 22883302, 18319677, 19922601, 17520517, 18710129, 16846736, 17408508, 14564503, 15977505, 13782147, 15585694, 13558629, 13954260, 12073819, 12984367, 12975279, 14335984, 21750801, 19497181, 16740289, 17741800, 15689942, 16724466, 15271527, 15804645, 13938907, 14125288, 15068037, 15192629, 13435520, 14455312, 12852030, 14722663, 13594526, 86413920, 119849014, 90674762, 55671102, 33730534, 24025255, 22606504, 18659213, 18507915, 15168861, 15799020, 13697849, 14866944, 13148776, 14157716, 12068207, 13021102, 10868635, 12302519, 10733287, 12116315, 10758491, 22101267, 20013324, 20080098, 16414849, 16688873, 17845999, 17334931, 13958323, 15011773, 11811996, 12583827, 10824029, 12296437, 10544766, 12112153, 14412018, 15819612, 13815832, 14763576, 12261040, 13685653, 11065907, 12872527, 11455221, 26773912, 21826663, 22973769, 20239756, 20301081, 17219510, 18105229, 15955976, 17293456, 14924250, 16213324, 13054145, 14307717, 11918237, 15937978, 12447019, 14103266, 12340856, 44791214, 36246189, 31595593, 27357412, 27711369, 22856063, 22866868, 19609833, 21262539, 18515054, 18340583, 15652638, 17937561, 15097182, 16550828, 13570900, 15024559, 12387150, 14293921, 13498238, 100846044, 74571839, 57134436, 31998364, 33351708, 24267586, 22620444, 19319102, 19129745, 16489484, 16921067, 14653007, 14221360, 14962676, 14754865, 13192678, 13319662, 11717617, 12867809, 11093300, 12186891, 17429345, 17812039, 15685636, 16353787, 14238622, 15092752, 12846574, 13594244, 11651894, 12486306, 11245548, 16503405, 14433051, 15781789, 13397758, 15266985, 13314777, 15363092, 228841602, 113687199, 64970596, 53947491, 38091720, 28805115, 20878595, 21225766, 18298074, 18926033, 16037372, 17168945, 15064553, 15867145, 13047589, 14771246, 12281657, 13068148, 11467702, 12773447, 11511527, 67058726, 44618553, 38696865, 30853111, 26987287, 23672688, 23444667, 20972519, 19430226, 17166512, 17608422, 15596177, 15904814, 14226117, 14008192, 12086114, 13308094, 11524944, 12480521, 11045268, 12951410, 11233979, 12868712, 16277301, 17450121, 14925612, 16275107, 13468239, 14434327, 12506202, 13888704, 74952749, 41665696, 33754629, 28146160, 24958367, 24638291, 20669972, 18821356, 15589230, 16557567, 14154095, 15910411, 13180846, 13184353, 11933816, 16059366, 11276996, 15011424, 11363334, 16131673, 14729202, 14129378, 12305452, 13391071, 11572834, 47266822, 37147138, 30381648, 25043094, 23444932, 20818016, 21478384, 17945598, 17651852, 15652337, 16586749, 14647256, 15685446, 13539552, 13680854, 12319912, 13529320, 11558313, 12633761, 11231180, 22115862, 19795129, 20171285, 16773364, 18576104, 16013013, 17240544, 15314846, 16424943, 13955539, 15014693, 13187319, 14518691, 13593064, 68361125, 50343855, 33723893, 29351860, 28901102, 25764556, 28456157, 25790112, 25601922, 19878010, 19473471, 16145468, 16993189, 15058732, 15934844, 14395757, 15580792, 13384664, 13887418, 12305024, 13619669, 12130314, 13355297, 12286113, 73980979, 45686161, 30988326, 24574226, 23703632, 21514355, 21231729, 17833252, 18041910, 16172722, 17100724, 14832745, 16026004, 13364191, 14230565, 12819813, 13820128, 12481221, 14602679, 25769222, 25103142, 22622798, 22865693, 18875392, 20039775, 18273810, 19441320, 17756022, 17969814, 16016673, 16718548, 17922712, 24242156, 635103137, 440321172, 176143630, 54128602, 40928656, 26048662, 27159629, 23397197, 18478518, 18331270, 16311081, 16347011, 14393507, 13485578, 13043517, 12548762, 11037922, 12115901, 10412708, 11950141, 16162381, 16375707, 13971088, 15135163, 12447514, 13127663, 11609552, 12299521, 10575956, 12446512], \"xaxis\": \"x\", \"y\": [435285, 381837, 419990, 377565, 417842, 480398, 501047, 432122, 464707, 423119, 469155, 358413, 411327, 337333, 378311, 312821, 354282, 299621, 344833, 294091, 339758, 463488, 487290, 401650, 503700, 417158, 542542, 499231, 601304, 515760, 574929, 480537, 582392, 447858, 531887, 437307, 485474, 431049, 490075, 424388, 583922, 1380512, 1286275, 1141487, 1066010, 917895, 927423, 802669, 956121, 795364, 749231, 671083, 639010, 600266, 619746, 549588, 548496, 480774, 487180, 510738, 468096, 426393, 454385, 419282, 420261, 388357, 601837, 530613, 600254, 510713, 586806, 541570, 488332, 427844, 497152, 486074, 455637, 373728, 460966, 402967, 507273, 427460, 454614, 412420, 472459, 392280, 435506, 403551, 590521, 574662, 623753, 546012, 630220, 471587, 499718, 464496, 463784, 431224, 670878, 635799, 580953, 587869, 652299, 556147, 606451, 479522, 529503, 514052, 525050, 529578, 1137304, 966611, 868662, 796090, 795648, 745960, 781185, 709571, 713011, 643886, 688688, 616459, 608789, 565199, 654663, 533312, 592772, 514607, 607199, 5448855, 3722934, 2799364, 1939899, 1468589, 1359035, 1011402, 1035015, 863298, 989375, 715943, 744942, 707196, 754776, 656280, 753784, 594991, 676343, 534927, 590145, 506760, 535198, 456683, 529822, 538294, 555906, 842012, 770715, 630881, 712967, 621251, 691587, 653717, 622848, 537796, 548752, 590776, 654844, 512200, 549760, 492748, 633360, 520855, 3571173, 4638825, 3528778, 2191856, 1318972, 1070807, 882663, 774252, 703740, 633178, 616517, 580595, 622553, 502675, 555964, 529015, 550646, 446163, 514416, 473380, 447417, 398247, 844507, 805106, 785042, 652109, 721926, 708934, 652703, 587791, 638776, 552395, 472677, 452792, 473550, 408340, 466137, 634261, 664539, 515312, 583126, 473618, 621452, 416187, 502089, 522530, 1060550, 868496, 915263, 796927, 819415, 702207, 741372, 654778, 680078, 653892, 632337, 506578, 543887, 453624, 614956, 480784, 540469, 477755, 1950048, 1520411, 1207383, 1081487, 1164148, 843144, 918988, 806932, 827892, 738715, 694134, 651139, 723529, 570753, 749086, 526676, 619961, 473026, 538942, 556579, 4003400, 3063187, 2182906, 1319933, 1322097, 931306, 956643, 862531, 765316, 702115, 679028, 545492, 586752, 653352, 595640, 507503, 518587, 440835, 570665, 421729, 514038, 715175, 727026, 641771, 692905, 556874, 688771, 478201, 506252, 423804, 464397, 448911, 611051, 561162, 586421, 537505, 603151, 623516, 594973, 9397724, 4754594, 2621664, 2135508, 1607194, 1224228, 818414, 863193, 760020, 797578, 639935, 695954, 638436, 641005, 501096, 550199, 494636, 549217, 504751, 486721, 428278, 2750332, 1878417, 1514782, 1241111, 1125686, 938901, 964616, 867626, 766569, 703195, 681638, 641954, 669858, 592253, 559889, 476366, 578855, 432093, 490792, 482242, 481397, 481718, 477783, 679991, 732834, 557088, 700280, 541047, 572101, 507948, 537952, 2968026, 1650396, 1346522, 1103522, 1039979, 970560, 858105, 765482, 584723, 632110, 587152, 702388, 512157, 554229, 483012, 659105, 455020, 577841, 469728, 676912, 577371, 553262, 457072, 510213, 536234, 1844033, 1519852, 1182508, 1102278, 903794, 806902, 879234, 753042, 682526, 597489, 630964, 564794, 589986, 508098, 564225, 486775, 504309, 429235, 482092, 453409, 864609, 796577, 823700, 651975, 729569, 672830, 648744, 584399, 621047, 573758, 662410, 545958, 599714, 517321, 2865350, 1929319, 1430643, 1221375, 1163372, 1076033, 1166246, 1011793, 1029325, 799416, 775220, 653225, 718113, 634185, 725654, 540840, 630245, 547536, 569381, 482953, 594711, 517467, 553303, 468673, 3011354, 1872974, 1236205, 995415, 1021643, 876228, 876446, 673500, 741789, 637423, 701742, 585955, 636826, 538307, 580891, 498265, 529016, 511007, 576781, 1026901, 1001556, 934556, 899973, 751200, 774556, 757908, 794265, 681689, 721256, 616793, 660737, 665297, 953074, 26110646, 18315365, 7124983, 2211608, 1577674, 1003060, 1080894, 943659, 731972, 704088, 617221, 704084, 587377, 507948, 505422, 489908, 432762, 505495, 404183, 475767, 660767, 741505, 565719, 572042, 525558, 516167, 435104, 452986, 430900, 399884], \"yaxis\": \"y\"}, {\"hoverlabel\": {\"namelength\": 0}, \"hovertemplate\": \"<b>OLS trendline</b><br>ticketswin = 0.041140 * tickets + -18220.368979<br>R<sup>2</sup>=0.999377<br><br>tickets=%{x}<br>ticketswin=%{y} <b>(trend)</b>\", \"legendgroup\": \"\", \"marker\": {\"color\": \"#636efa\", \"symbol\": \"circle\"}, \"mode\": \"lines\", \"name\": \"\", \"showlegend\": false, \"type\": \"scatter\", \"x\": [7569646, 7885946, 8353661, 8554534, 8739665, 8976518, 8986652, 9243787, 9502702, 9588292, 9653788, 9677193, 9808532, 9946987, 10006606, 10060280, 10064069, 10069020, 10262535, 10362403, 10374882, 10374959, 10412708, 10448681, 10469611, 10473853, 10544766, 10565326, 10575956, 10675612, 10720028, 10733287, 10758491, 10766028, 10824029, 10841380, 10847664, 10868635, 10875742, 10906522, 10931842, 10952934, 11037922, 11045268, 11065907, 11093300, 11117080, 11145936, 11201517, 11224983, 11231180, 11233979, 11237252, 11245548, 11276996, 11363334, 11455221, 11467702, 11468659, 11511527, 11511704, 11519359, 11524944, 11558313, 11572834, 11591554, 11609552, 11647178, 11651894, 11661262, 11695165, 11717617, 11757507, 11790833, 11811996, 11820223, 11918237, 11933816, 11950141, 12003071, 12066156, 12068207, 12073819, 12086114, 12095670, 12112153, 12115901, 12116315, 12130314, 12133899, 12137341, 12186891, 12200133, 12261040, 12270206, 12281657, 12286113, 12296437, 12299521, 12302519, 12305024, 12305452, 12313173, 12319912, 12340856, 12387150, 12418674, 12443051, 12446512, 12447019, 12447514, 12480521, 12481221, 12482210, 12486306, 12495867, 12506202, 12523260, 12548762, 12583827, 12633761, 12635365, 12753192, 12768620, 12773447, 12802240, 12819813, 12822249, 12846574, 12852030, 12867809, 12868712, 12872527, 12951410, 12966773, 12975279, 12984367, 12991538, 13021102, 13043517, 13047589, 13054145, 13068148, 13127663, 13148776, 13180846, 13184353, 13187319, 13192678, 13215128, 13218913, 13237112, 13244722, 13260953, 13308094, 13314777, 13319662, 13334186, 13355297, 13364191, 13384664, 13389560, 13391071, 13397758, 13419449, 13435520, 13468239, 13485578, 13498238, 13516066, 13529320, 13539552, 13555890, 13558629, 13561287, 13570900, 13593064, 13594244, 13594526, 13619669, 13680854, 13685653, 13697849, 13782147, 13815832, 13820128, 13887244, 13887418, 13888704, 13938907, 13954260, 13955539, 13958323, 13971088, 14008192, 14103266, 14125288, 14129378, 14154095, 14157716, 14175783, 14192913, 14221360, 14226117, 14228217, 14230565, 14238622, 14279929, 14293921, 14307717, 14335984, 14393507, 14395757, 14412018, 14433051, 14434327, 14455312, 14472208, 14509873, 14518691, 14525590, 14549382, 14564503, 14602679, 14647256, 14653007, 14715417, 14722663, 14729202, 14754865, 14763576, 14771246, 14830583, 14832745, 14866944, 14924250, 14925612, 14962676, 14970003, 15011424, 15011773, 15014693, 15017584, 15024559, 15058732, 15064553, 15068037, 15092752, 15097182, 15122600, 15135163, 15158487, 15168861, 15192629, 15254656, 15266985, 15271527, 15284366, 15314846, 15363092, 15434576, 15471783, 15538859, 15580792, 15585694, 15589230, 15596177, 15652337, 15652638, 15663006, 15685446, 15685636, 15689942, 15734285, 15781789, 15799020, 15804645, 15819612, 15867145, 15904814, 15910411, 15916525, 15934844, 15937978, 15955976, 15977505, 16013013, 16016673, 16019000, 16026004, 16037372, 16059366, 16131673, 16145468, 16162381, 16172722, 16213324, 16275107, 16277301, 16311081, 16347011, 16353787, 16375707, 16414849, 16422502, 16424943, 16489484, 16491521, 16503405, 16550828, 16557567, 16586749, 16688873, 16718548, 16724466, 16740289, 16773364, 16846736, 16921067, 16993189, 17100724, 17158408, 17166512, 17168945, 17184552, 17204152, 17219510, 17240544, 17293456, 17300095, 17334931, 17408508, 17429345, 17450121, 17520517, 17608422, 17651852, 17741800, 17756022, 17812039, 17833252, 17845999, 17922712, 17937561, 17945598, 17969814, 18041910, 18105229, 18273810, 18298074, 18319677, 18322632, 18331270, 18333322, 18340583, 18478518, 18507915, 18515054, 18576104, 18659213, 18710129, 18821356, 18875392, 18926033, 19129745, 19170286, 19233422, 19319102, 19430226, 19441320, 19473471, 19497181, 19603952, 19609833, 19795129, 19878010, 19922601, 20013324, 20039775, 20080098, 20130437, 20171285, 20239756, 20301081, 20319594, 20669972, 20715540, 20818016, 20878595, 20972519, 21225766, 21231729, 21262539, 21381004, 21478384, 21514355, 21569236, 21750801, 21826663, 22101267, 22115862, 22296012, 22506098, 22606504, 22620444, 22622798, 22687261, 22856063, 22865693, 22866868, 22883302, 22973769, 23291790, 23397197, 23444667, 23444932, 23672688, 23703632, 24025255, 24242156, 24267586, 24574226, 24638291, 24958367, 25043094, 25103142, 25601922, 25764556, 25769222, 25790112, 26004175, 26048662, 26259031, 26773912, 26961131, 26987287, 27159629, 27357412, 27701764, 27711369, 27870571, 28146160, 28456157, 28805115, 28901102, 29351860, 30381648, 30853111, 30988326, 31595593, 31998364, 32362367, 33351708, 33723893, 33730534, 33754629, 34396266, 35133109, 36246189, 37147138, 37293378, 38091720, 38696865, 40928656, 41665696, 44618553, 44791214, 45686161, 46498176, 47266822, 50343855, 53947491, 54128602, 55671102, 57134436, 64970596, 67058726, 68361125, 71029841, 73980979, 74571839, 74952749, 86413920, 90298137, 90674762, 100846044, 113687199, 119849014, 134060942, 176143630, 228841602, 440321172, 635103137], \"xaxis\": \"x\", \"y\": [293195.447700135, 306208.05394561467, 325449.8848975733, 333713.8155151776, 341330.1190461036, 351074.2696216983, 351491.18315850414, 362069.7367687837, 372721.51971550635, 376242.69887627335, 378937.20933676633, 379900.09283083986, 385303.3893584246, 390999.43867147516, 393452.16890147596, 395660.3213757721, 395816.20112621196, 396019.8856457231, 403981.1075793114, 408089.68475453614, 408603.0717710943, 408606.23955699656, 410159.23631058686, 411639.1682880407, 412500.23009239696, 412674.7462975608, 415592.11255328543, 416437.9525292799, 416875.2715441059, 420975.12702308, 422802.40466771874, 423347.88094406656, 424384.7754360396, 424694.8481937765, 427081.0137797521, 427794.8352497657, 428053.35949145583, 428916.1080389549, 429208.4905637308, 430474.7821231234, 431516.4488639882, 432384.17536076234, 435880.588195384, 436182.8031984801, 437031.8932405302, 438158.8433602976, 439137.15438311617, 440324.2924350275, 442610.89903550176, 443576.2920742511, 443831.2371292724, 443946.3882038254, 444081.03967471205, 444422.3377506289, 445716.1108812259, 449268.06281932973, 453048.30104278337, 453561.7703394948, 453601.1413928521, 455364.7341988314, 455372.015992399, 455686.943279181, 455916.7106072904, 457289.5138251387, 457886.90887822316, 458657.05111317534, 459397.49021278374, 460945.4267369457, 461139.44333844323, 461524.84357653256, 462919.6155953138, 463843.29259633657, 465484.37025404186, 466855.4044485941, 467726.0518908106, 468064.5113014383, 472096.8147745476, 472737.73602873133, 473409.34778009856, 475586.8920373646, 478182.21377304615, 478266.59207026236, 478497.4701804414, 479003.2874228953, 479396.42199539545, 480074.533878874, 480228.726886171, 480245.7588779055, 480821.67881097685, 480969.16598577943, 481110.7701296205, 483149.26092779794, 483694.03782284266, 486199.7564715731, 486576.8464141784, 487047.9414319368, 487231.2616135045, 487655.9917648745, 487782.8677612737, 487906.20571108063, 488009.2616030975, 488026.86955590517, 488344.5120877463, 488621.75506431377, 489483.39282974316, 491387.931538337, 492684.83131475974, 493687.7029633404, 493830.0887686379, 493850.94678750116, 493871.31112544466, 495229.2216355444, 495258.0196892018, 495298.707225012, 495467.2169789845, 495860.5572518679, 496285.7399440811, 496987.5073716353, 498036.66160645103, 499479.23839430354, 501533.5269819159, 501599.515664868, 506446.92747671163, 507081.6365793207, 507280.21972932684, 508464.765956409, 509187.72052343964, 509287.9377501674, 510288.6701147621, 510513.1303729832, 511162.2796424977, 511199.42913171573, 511356.37852414855, 514601.631190801, 515233.66618842765, 515583.6036804417, 515957.48469706805, 516252.5001867498, 517468.76541293185, 518390.9202311184, 518558.4426232512, 518828.1569657911, 519404.241459169, 521852.6931211979, 522721.2835595818, 524040.6458178572, 524184.9240666808, 524306.9455340349, 524527.4152048207, 525451.00992569, 525606.7251158233, 526355.4333708391, 526668.5093541716, 527336.2539383334, 529275.6382918528, 529550.5774241276, 529751.5466985796, 530349.0651718942, 531217.5733301246, 531583.4731718802, 532425.7339612059, 532627.1557765009, 532689.3184323243, 532964.422124906, 533856.7915275954, 534517.9536994926, 535864.0158675162, 536577.34365661, 537098.1770270425, 537831.6223136198, 538376.8928895844, 538797.8381539022, 539469.984726266, 539582.6673962197, 539692.0177199645, 540087.497276834, 540999.3259357805, 541047.8712262316, 541059.4727278478, 542093.8576751449, 544611.013265185, 544808.4444930449, 545310.1888679101, 548778.215049641, 550164.0185317115, 550340.7563010147, 553101.9136856864, 553109.0720590241, 553161.9781976002, 555227.3334658325, 555858.9570626926, 555911.5752207323, 556026.1091941355, 556551.2622726164, 558077.7236767653, 561989.0753245135, 562895.0620925752, 563063.3250060878, 564080.1842807306, 564229.1524982927, 564972.4302631901, 565677.1597762634, 566847.4715368235, 567043.1748814639, 567129.5690424361, 567226.1659424184, 567557.6315400151, 569257.0046863381, 569832.636638873, 570400.2051363837, 571563.1116831461, 573929.6123124813, 574022.1774849517, 574691.156271413, 575556.4555036647, 575608.9502414744, 576472.2747500467, 577167.3774851828, 578716.9184723343, 579079.6916682643, 579363.5170570964, 580342.3217608347, 580964.4008599112, 582534.9644262325, 584368.8656232124, 584605.4622040463, 587173.0143879869, 587471.1153834176, 587740.1303446544, 588795.9081318113, 589154.2793395394, 589469.823727471, 591910.9524558557, 591999.8973015803, 593406.846783051, 595764.4200157523, 595820.4528001545, 597345.2686012371, 597646.7019428767, 599350.7650579384, 599365.1229446905, 599485.2519685186, 599604.1879301236, 599891.1399647812, 601297.0198042588, 601536.4961904585, 601679.828217519, 602696.6052120086, 602878.8557515831, 603924.55421996, 604441.3970029571, 605400.9481508217, 605827.7353060243, 606805.5526479231, 609357.3481825052, 609864.5641875654, 610051.4224157254, 610579.6198598787, 611833.5693962753, 613818.4135344967, 616759.2707739903, 618289.9696060345, 621049.4813876399, 622774.6082219481, 622976.2768777031, 623121.7481887499, 623407.5483012612, 625717.9750061177, 625730.3581691904, 626156.8984839332, 627080.0818040362, 627087.8984186002, 627265.0475886699, 629089.3220077129, 631043.6402090574, 631752.5248698727, 631983.9378010482, 632599.6813283202, 634555.1925918877, 636104.8981393457, 636335.1591483748, 636586.689577034, 637340.334641248, 637469.2676414798, 638209.7067410883, 639095.41145136, 640556.2132931701, 640706.7859737216, 640802.5189320941, 641090.6640289747, 641558.3444203709, 642463.1792662863, 645437.8947888659, 646005.4221462999, 646701.2242627393, 647126.6537954125, 648797.0231876951, 651338.7805435739, 651429.0418717514, 652818.7536611042, 654296.9166152622, 654575.6817746656, 655477.4722549089, 657087.7771352774, 657402.6221419061, 657503.045069017, 660158.2667563062, 660242.069092449, 660730.9777633986, 662681.9636185342, 662959.2065951014, 664159.756312002, 668361.1455001566, 669581.9772748472, 669825.4442484821, 670476.4036813695, 671837.1117166816, 674855.6414208969, 677913.6244586231, 680880.7290670217, 685304.7272099482, 687677.8513916247, 688011.2505728239, 688111.3443793217, 688753.4175556519, 689559.7630580592, 690191.5923553023, 691056.9327276307, 693233.736463517, 693506.8654324191, 694940.0211427179, 697966.9845626473, 698824.2203398747, 699678.9465724265, 702575.0434085212, 706191.4618467409, 707978.1753757994, 711678.642990622, 712263.737160787, 714568.2808346823, 715440.9852807315, 715965.3978378326, 719121.3765381472, 719732.265536374, 720062.9083324375, 721059.156428677, 724025.1913950827, 726630.1399087012, 733565.5751710129, 734563.7979909317, 735452.5470668757, 735574.1159933866, 735929.483975519, 736013.9034128117, 736312.6215093923, 741987.277982583, 743196.6728159639, 743490.3718231928, 746001.9735028846, 749421.0841334744, 751515.7722763605, 756091.6595822915, 758314.7047643361, 760398.0793861425, 768778.8066813659, 770446.6665289726, 773044.0864085634, 776568.9681762292, 781140.6180542649, 781597.0260646581, 782919.7206691424, 783895.1518865952, 788287.7190109587, 788529.6638017574, 796152.7554453311, 799562.4861384442, 801396.9632964972, 805129.3144707263, 806217.5106382861, 807876.4019491824, 809947.3522678392, 811627.8421189785, 814444.7443075154, 816967.659508287, 817729.2857473721, 832143.8635250472, 834018.5345379906, 838234.4050331274, 840726.6297367157, 844590.6702963123, 855009.2712885633, 855254.5895656478, 856522.1153273399, 861395.7745080884, 865401.9951725993, 866881.8448698998, 869139.6534167167, 876609.2514342966, 879730.219929379, 891027.4495387173, 891627.8889574741, 899039.2737665894, 907682.2279104018, 911812.9384468659, 912386.4311154147, 912483.2748558568, 915135.2876171668, 922079.814836419, 922475.9937745915, 922524.3333646592, 923200.4293843817, 926922.2486989875, 940005.6570163879, 944342.1090761959, 946295.028514934, 946305.9306352471, 955675.8299335258, 956948.8684654895, 970180.4633389954, 979103.7871052008, 980149.9792544974, 992765.172359505, 995400.8113703069, 1008568.7625452299, 1012054.437819845, 1014524.8171427301, 1035044.6645759277, 1041735.4398023814, 1041927.3994000463, 1042786.8156013365, 1051593.3838299995, 1053423.5824200807, 1062078.179205586, 1083260.4230129803, 1090962.6270239586, 1092038.6868689058, 1099128.849959511, 1107265.6577402563, 1121432.3254160178, 1121827.475852274, 1128377.0583356533, 1139714.8109204953, 1152468.1112628283, 1166824.2701316557, 1170773.1826693884, 1189317.401341535, 1231682.9585983164, 1251078.9825575722, 1256641.7380222657, 1281624.7489513636, 1298194.778765142, 1313169.8900872201, 1353871.4546636005, 1369183.1740928572, 1369456.3853419125, 1370447.6554888769, 1396844.6508525533, 1427158.4283540961, 1472950.6248754952, 1510015.7357963256, 1516032.060606123, 1548875.911681775, 1573771.6233682146, 1665587.676182648, 1695909.5582792915, 1817390.3216059066, 1824493.6083809645, 1861311.796561721, 1894718.1559054554, 1926340.3112648071, 2052929.6847499385, 2201183.546020996, 2208634.4664437748, 2272093.0346816895, 2332294.7076112586, 2654674.930679795, 2740580.7589421202, 2794161.5536354696, 2903952.7344417027, 3025362.7779765506, 3049670.803667996, 3065341.470266054, 3536854.923744114, 3696651.908862667, 3712146.290232265, 4130593.61137591, 4658879.712394476, 4912377.253818726, 5497057.061131744, 7228342.071234091, 9396340.67879436, 18096626.399228618, 26109971.37003419], \"yaxis\": \"y\"}],\n",
              "                        {\"legend\": {\"tracegroupgap\": 0}, \"margin\": {\"t\": 60}, \"template\": {\"data\": {\"bar\": [{\"error_x\": {\"color\": \"#2a3f5f\"}, \"error_y\": {\"color\": \"#2a3f5f\"}, \"marker\": {\"line\": {\"color\": \"#E5ECF6\", \"width\": 0.5}}, \"type\": \"bar\"}], \"barpolar\": [{\"marker\": {\"line\": {\"color\": \"#E5ECF6\", \"width\": 0.5}}, \"type\": \"barpolar\"}], \"carpet\": [{\"aaxis\": {\"endlinecolor\": \"#2a3f5f\", \"gridcolor\": \"white\", \"linecolor\": \"white\", \"minorgridcolor\": \"white\", \"startlinecolor\": \"#2a3f5f\"}, \"baxis\": {\"endlinecolor\": \"#2a3f5f\", \"gridcolor\": \"white\", \"linecolor\": \"white\", \"minorgridcolor\": \"white\", \"startlinecolor\": \"#2a3f5f\"}, \"type\": \"carpet\"}], \"choropleth\": [{\"colorbar\": {\"outlinewidth\": 0, \"ticks\": \"\"}, \"type\": \"choropleth\"}], \"contour\": [{\"colorbar\": {\"outlinewidth\": 0, \"ticks\": \"\"}, \"colorscale\": [[0.0, \"#0d0887\"], [0.1111111111111111, \"#46039f\"], [0.2222222222222222, \"#7201a8\"], [0.3333333333333333, \"#9c179e\"], [0.4444444444444444, \"#bd3786\"], [0.5555555555555556, \"#d8576b\"], [0.6666666666666666, \"#ed7953\"], [0.7777777777777778, \"#fb9f3a\"], [0.8888888888888888, \"#fdca26\"], [1.0, \"#f0f921\"]], \"type\": \"contour\"}], \"contourcarpet\": [{\"colorbar\": {\"outlinewidth\": 0, \"ticks\": \"\"}, \"type\": \"contourcarpet\"}], \"heatmap\": [{\"colorbar\": {\"outlinewidth\": 0, \"ticks\": \"\"}, \"colorscale\": [[0.0, \"#0d0887\"], [0.1111111111111111, \"#46039f\"], [0.2222222222222222, \"#7201a8\"], [0.3333333333333333, \"#9c179e\"], [0.4444444444444444, \"#bd3786\"], [0.5555555555555556, \"#d8576b\"], [0.6666666666666666, \"#ed7953\"], [0.7777777777777778, \"#fb9f3a\"], [0.8888888888888888, \"#fdca26\"], [1.0, \"#f0f921\"]], \"type\": \"heatmap\"}], \"heatmapgl\": [{\"colorbar\": {\"outlinewidth\": 0, \"ticks\": \"\"}, \"colorscale\": [[0.0, \"#0d0887\"], [0.1111111111111111, \"#46039f\"], [0.2222222222222222, \"#7201a8\"], [0.3333333333333333, \"#9c179e\"], [0.4444444444444444, \"#bd3786\"], [0.5555555555555556, \"#d8576b\"], [0.6666666666666666, \"#ed7953\"], [0.7777777777777778, \"#fb9f3a\"], [0.8888888888888888, \"#fdca26\"], [1.0, \"#f0f921\"]], \"type\": \"heatmapgl\"}], \"histogram\": [{\"marker\": {\"colorbar\": {\"outlinewidth\": 0, \"ticks\": \"\"}}, \"type\": \"histogram\"}], \"histogram2d\": [{\"colorbar\": {\"outlinewidth\": 0, \"ticks\": \"\"}, \"colorscale\": [[0.0, \"#0d0887\"], [0.1111111111111111, \"#46039f\"], [0.2222222222222222, \"#7201a8\"], [0.3333333333333333, \"#9c179e\"], [0.4444444444444444, \"#bd3786\"], [0.5555555555555556, \"#d8576b\"], [0.6666666666666666, \"#ed7953\"], [0.7777777777777778, \"#fb9f3a\"], [0.8888888888888888, \"#fdca26\"], [1.0, \"#f0f921\"]], \"type\": \"histogram2d\"}], \"histogram2dcontour\": [{\"colorbar\": {\"outlinewidth\": 0, \"ticks\": \"\"}, \"colorscale\": [[0.0, \"#0d0887\"], [0.1111111111111111, \"#46039f\"], [0.2222222222222222, \"#7201a8\"], [0.3333333333333333, \"#9c179e\"], [0.4444444444444444, \"#bd3786\"], [0.5555555555555556, \"#d8576b\"], [0.6666666666666666, \"#ed7953\"], [0.7777777777777778, \"#fb9f3a\"], [0.8888888888888888, \"#fdca26\"], [1.0, \"#f0f921\"]], \"type\": \"histogram2dcontour\"}], \"mesh3d\": [{\"colorbar\": {\"outlinewidth\": 0, \"ticks\": \"\"}, \"type\": \"mesh3d\"}], \"parcoords\": [{\"line\": {\"colorbar\": {\"outlinewidth\": 0, \"ticks\": \"\"}}, \"type\": \"parcoords\"}], \"pie\": [{\"automargin\": true, \"type\": \"pie\"}], \"scatter\": [{\"marker\": {\"colorbar\": {\"outlinewidth\": 0, \"ticks\": \"\"}}, \"type\": \"scatter\"}], \"scatter3d\": [{\"line\": {\"colorbar\": {\"outlinewidth\": 0, \"ticks\": \"\"}}, \"marker\": {\"colorbar\": {\"outlinewidth\": 0, \"ticks\": \"\"}}, \"type\": \"scatter3d\"}], \"scattercarpet\": [{\"marker\": {\"colorbar\": {\"outlinewidth\": 0, \"ticks\": \"\"}}, \"type\": \"scattercarpet\"}], \"scattergeo\": [{\"marker\": {\"colorbar\": {\"outlinewidth\": 0, \"ticks\": \"\"}}, \"type\": \"scattergeo\"}], \"scattergl\": [{\"marker\": {\"colorbar\": {\"outlinewidth\": 0, \"ticks\": \"\"}}, \"type\": \"scattergl\"}], \"scattermapbox\": [{\"marker\": {\"colorbar\": {\"outlinewidth\": 0, \"ticks\": \"\"}}, \"type\": \"scattermapbox\"}], \"scatterpolar\": [{\"marker\": {\"colorbar\": {\"outlinewidth\": 0, \"ticks\": \"\"}}, \"type\": \"scatterpolar\"}], \"scatterpolargl\": [{\"marker\": {\"colorbar\": {\"outlinewidth\": 0, \"ticks\": \"\"}}, \"type\": \"scatterpolargl\"}], \"scatterternary\": [{\"marker\": {\"colorbar\": {\"outlinewidth\": 0, \"ticks\": \"\"}}, \"type\": \"scatterternary\"}], \"surface\": [{\"colorbar\": {\"outlinewidth\": 0, \"ticks\": \"\"}, \"colorscale\": [[0.0, \"#0d0887\"], [0.1111111111111111, \"#46039f\"], [0.2222222222222222, \"#7201a8\"], [0.3333333333333333, \"#9c179e\"], [0.4444444444444444, \"#bd3786\"], [0.5555555555555556, \"#d8576b\"], [0.6666666666666666, \"#ed7953\"], [0.7777777777777778, \"#fb9f3a\"], [0.8888888888888888, \"#fdca26\"], [1.0, \"#f0f921\"]], \"type\": \"surface\"}], \"table\": [{\"cells\": {\"fill\": {\"color\": \"#EBF0F8\"}, \"line\": {\"color\": \"white\"}}, \"header\": {\"fill\": {\"color\": \"#C8D4E3\"}, \"line\": {\"color\": \"white\"}}, \"type\": \"table\"}]}, \"layout\": {\"annotationdefaults\": {\"arrowcolor\": \"#2a3f5f\", \"arrowhead\": 0, \"arrowwidth\": 1}, \"coloraxis\": {\"colorbar\": {\"outlinewidth\": 0, \"ticks\": \"\"}}, \"colorscale\": {\"diverging\": [[0, \"#8e0152\"], [0.1, \"#c51b7d\"], [0.2, \"#de77ae\"], [0.3, \"#f1b6da\"], [0.4, \"#fde0ef\"], [0.5, \"#f7f7f7\"], [0.6, \"#e6f5d0\"], [0.7, \"#b8e186\"], [0.8, \"#7fbc41\"], [0.9, \"#4d9221\"], [1, \"#276419\"]], \"sequential\": [[0.0, \"#0d0887\"], [0.1111111111111111, \"#46039f\"], [0.2222222222222222, \"#7201a8\"], [0.3333333333333333, \"#9c179e\"], [0.4444444444444444, \"#bd3786\"], [0.5555555555555556, \"#d8576b\"], [0.6666666666666666, \"#ed7953\"], [0.7777777777777778, \"#fb9f3a\"], [0.8888888888888888, \"#fdca26\"], [1.0, \"#f0f921\"]], \"sequentialminus\": [[0.0, \"#0d0887\"], [0.1111111111111111, \"#46039f\"], [0.2222222222222222, \"#7201a8\"], [0.3333333333333333, \"#9c179e\"], [0.4444444444444444, \"#bd3786\"], [0.5555555555555556, \"#d8576b\"], [0.6666666666666666, \"#ed7953\"], [0.7777777777777778, \"#fb9f3a\"], [0.8888888888888888, \"#fdca26\"], [1.0, \"#f0f921\"]]}, \"colorway\": [\"#636efa\", \"#EF553B\", \"#00cc96\", \"#ab63fa\", \"#FFA15A\", \"#19d3f3\", \"#FF6692\", \"#B6E880\", \"#FF97FF\", \"#FECB52\"], \"font\": {\"color\": \"#2a3f5f\"}, \"geo\": {\"bgcolor\": \"white\", \"lakecolor\": \"white\", \"landcolor\": \"#E5ECF6\", \"showlakes\": true, \"showland\": true, \"subunitcolor\": \"white\"}, \"hoverlabel\": {\"align\": \"left\"}, \"hovermode\": \"closest\", \"mapbox\": {\"style\": \"light\"}, \"paper_bgcolor\": \"white\", \"plot_bgcolor\": \"#E5ECF6\", \"polar\": {\"angularaxis\": {\"gridcolor\": \"white\", \"linecolor\": \"white\", \"ticks\": \"\"}, \"bgcolor\": \"#E5ECF6\", \"radialaxis\": {\"gridcolor\": \"white\", \"linecolor\": \"white\", \"ticks\": \"\"}}, \"scene\": {\"xaxis\": {\"backgroundcolor\": \"#E5ECF6\", \"gridcolor\": \"white\", \"gridwidth\": 2, \"linecolor\": \"white\", \"showbackground\": true, \"ticks\": \"\", \"zerolinecolor\": \"white\"}, \"yaxis\": {\"backgroundcolor\": \"#E5ECF6\", \"gridcolor\": \"white\", \"gridwidth\": 2, \"linecolor\": \"white\", \"showbackground\": true, \"ticks\": \"\", \"zerolinecolor\": \"white\"}, \"zaxis\": {\"backgroundcolor\": \"#E5ECF6\", \"gridcolor\": \"white\", \"gridwidth\": 2, \"linecolor\": \"white\", \"showbackground\": true, \"ticks\": \"\", \"zerolinecolor\": \"white\"}}, \"shapedefaults\": {\"line\": {\"color\": \"#2a3f5f\"}}, \"ternary\": {\"aaxis\": {\"gridcolor\": \"white\", \"linecolor\": \"white\", \"ticks\": \"\"}, \"baxis\": {\"gridcolor\": \"white\", \"linecolor\": \"white\", \"ticks\": \"\"}, \"bgcolor\": \"#E5ECF6\", \"caxis\": {\"gridcolor\": \"white\", \"linecolor\": \"white\", \"ticks\": \"\"}}, \"title\": {\"x\": 0.05}, \"xaxis\": {\"automargin\": true, \"gridcolor\": \"white\", \"linecolor\": \"white\", \"ticks\": \"\", \"title\": {\"standoff\": 15}, \"zerolinecolor\": \"white\", \"zerolinewidth\": 2}, \"yaxis\": {\"automargin\": true, \"gridcolor\": \"white\", \"linecolor\": \"white\", \"ticks\": \"\", \"title\": {\"standoff\": 15}, \"zerolinecolor\": \"white\", \"zerolinewidth\": 2}}}, \"xaxis\": {\"anchor\": \"y\", \"domain\": [0.0, 1.0], \"title\": {\"text\": \"tickets\"}}, \"yaxis\": {\"anchor\": \"x\", \"domain\": [0.0, 1.0], \"title\": {\"text\": \"ticketswin\"}}},\n",
              "                        {\"responsive\": true}\n",
              "                    ).then(function(){\n",
              "                            \n",
              "var gd = document.getElementById('5028df1f-6af7-4b3f-8341-afa33f922094');\n",
              "var x = new MutationObserver(function (mutations, observer) {{\n",
              "        var display = window.getComputedStyle(gd).display;\n",
              "        if (!display || display === 'none') {{\n",
              "            console.log([gd, 'removed!']);\n",
              "            Plotly.purge(gd);\n",
              "            observer.disconnect();\n",
              "        }}\n",
              "}});\n",
              "\n",
              "// Listen for the removal of the full notebook cells\n",
              "var notebookContainer = gd.closest('#notebook-container');\n",
              "if (notebookContainer) {{\n",
              "    x.observe(notebookContainer, {childList: true});\n",
              "}}\n",
              "\n",
              "// Listen for the clearing of the current output cell\n",
              "var outputEl = gd.closest('.output');\n",
              "if (outputEl) {{\n",
              "    x.observe(outputEl, {childList: true});\n",
              "}}\n",
              "\n",
              "                        })\n",
              "                };\n",
              "                \n",
              "            </script>\n",
              "        </div>\n",
              "</body>\n",
              "</html>"
            ]
          },
          "metadata": {
            "tags": []
          }
        }
      ]
    },
    {
      "cell_type": "code",
      "metadata": {
        "id": "--uXiT9XIF9m",
        "colab_type": "code",
        "colab": {
          "base_uri": "https://localhost:8080/",
          "height": 34
        },
        "outputId": "8425910c-bc31-4378-de4c-97d02846de11"
      },
      "source": [
        "print('')"
      ],
      "execution_count": 133,
      "outputs": [
        {
          "output_type": "stream",
          "text": [
            "\n"
          ],
          "name": "stdout"
        }
      ]
    },
    {
      "cell_type": "code",
      "metadata": {
        "id": "ZAVNEJKRIGAb",
        "colab_type": "code",
        "colab": {
          "base_uri": "https://localhost:8080/",
          "height": 34
        },
        "outputId": "7f40e21d-c870-4d5e-e510-fd940e9911f3"
      },
      "source": [
        "from sklearn.linear_model import LinearRegression\n",
        "\n",
        "model = LinearRegression()\n",
        "\n",
        "features = ['tickets']\n",
        "target = 'ticketswin'\n",
        "\n",
        "X_train = df[features]\n",
        "y_train = df[target]\n",
        "\n",
        "model.fit(X_train, y_train)"
      ],
      "execution_count": 134,
      "outputs": [
        {
          "output_type": "execute_result",
          "data": {
            "text/plain": [
              "LinearRegression(copy_X=True, fit_intercept=True, n_jobs=None, normalize=False)"
            ]
          },
          "metadata": {
            "tags": []
          },
          "execution_count": 134
        }
      ]
    },
    {
      "cell_type": "code",
      "metadata": {
        "id": "EWZLAYzAIGDO",
        "colab_type": "code",
        "colab": {
          "base_uri": "https://localhost:8080/",
          "height": 34
        },
        "outputId": "06bee313-32ce-47bd-b352-32e4470af845"
      },
      "source": [
        "guess = 440321200\n",
        "\n",
        "X_test = [[guess]]\n",
        "y_pred = model.predict(X_test)\n",
        "y_pred"
      ],
      "execution_count": 135,
      "outputs": [
        {
          "output_type": "execute_result",
          "data": {
            "text/plain": [
              "array([18096627.55115077])"
            ]
          },
          "metadata": {
            "tags": []
          },
          "execution_count": 135
        }
      ]
    },
    {
      "cell_type": "code",
      "metadata": {
        "id": "UALzdhezIGI3",
        "colab_type": "code",
        "colab": {
          "base_uri": "https://localhost:8080/",
          "height": 34
        },
        "outputId": "63dd4526-03e6-498d-ca8a-160872f5ebcf"
      },
      "source": [
        "y_test = [18315360]\n",
        "print(y_test, y_pred)"
      ],
      "execution_count": 136,
      "outputs": [
        {
          "output_type": "stream",
          "text": [
            "[18315360] [18096627.55115077]\n"
          ],
          "name": "stdout"
        }
      ]
    },
    {
      "cell_type": "code",
      "metadata": {
        "id": "v2WDz700IGGN",
        "colab_type": "code",
        "colab": {
          "base_uri": "https://localhost:8080/",
          "height": 34
        },
        "outputId": "fa6d4926-d592-4cd2-967a-24068029a3c7"
      },
      "source": [
        "from sklearn.metrics import mean_absolute_error as mae\n",
        "\n",
        "mae = mae(y_test, y_pred)\n",
        "print(f'Model error is: {mae:.0f}')"
      ],
      "execution_count": 137,
      "outputs": [
        {
          "output_type": "stream",
          "text": [
            "Model error is: 218732\n"
          ],
          "name": "stdout"
        }
      ]
    },
    {
      "cell_type": "code",
      "metadata": {
        "id": "wiHnjMw5IGL-",
        "colab_type": "code",
        "colab": {
          "base_uri": "https://localhost:8080/",
          "height": 34
        },
        "outputId": "84b402f1-2854-49ad-ab11-e59540da07f5"
      },
      "source": [
        "model.coef_"
      ],
      "execution_count": 138,
      "outputs": [
        {
          "output_type": "execute_result",
          "data": {
            "text/plain": [
              "array([0.04114008])"
            ]
          },
          "metadata": {
            "tags": []
          },
          "execution_count": 138
        }
      ]
    },
    {
      "cell_type": "code",
      "metadata": {
        "id": "0m8_J-9HIGPJ",
        "colab_type": "code",
        "colab": {
          "base_uri": "https://localhost:8080/",
          "height": 34
        },
        "outputId": "24d5281c-47ea-4acf-b26b-cea4607ab2cf"
      },
      "source": [
        "model.intercept_"
      ],
      "execution_count": 139,
      "outputs": [
        {
          "output_type": "execute_result",
          "data": {
            "text/plain": [
              "-18220.368979188614"
            ]
          },
          "metadata": {
            "tags": []
          },
          "execution_count": 139
        }
      ]
    },
    {
      "cell_type": "code",
      "metadata": {
        "id": "kjBxkcxnIGRn",
        "colab_type": "code",
        "colab": {}
      },
      "source": [
        "def predict(tickets):\n",
        "    y_pred = model.predict([[tickets]])\n",
        "    estimate = y_pred[0]\n",
        "    coefficient = model.coef_[0]*100\n",
        "    print(f'{estimate:,.0f} estimated winning tickets for {tickets:,.0f} tickets purchased')\n",
        "    print(f'In this linear regression each 100 tickets purchased adds {coefficient:,.0f} to expected winning tickets.')\n"
      ],
      "execution_count": 140,
      "outputs": []
    },
    {
      "cell_type": "code",
      "metadata": {
        "id": "tZeszO68IGU0",
        "colab_type": "code",
        "colab": {
          "base_uri": "https://localhost:8080/",
          "height": 50
        },
        "outputId": "95ca9e95-10d2-48c6-9a15-18aba6690ad8"
      },
      "source": [
        "predict(400000000)"
      ],
      "execution_count": 141,
      "outputs": [
        {
          "output_type": "stream",
          "text": [
            "16,437,810 estimated winning tickets for 400,000,000 tickets purchased\n",
            "In this linear regression each 100 tickets purchased adds 4 to expected winning tickets.\n"
          ],
          "name": "stdout"
        }
      ]
    },
    {
      "cell_type": "code",
      "metadata": {
        "id": "mPYOpQ2-IGah",
        "colab_type": "code",
        "colab": {}
      },
      "source": [
        "from sklearn.model_selection import train_test_split"
      ],
      "execution_count": 142,
      "outputs": []
    },
    {
      "cell_type": "code",
      "metadata": {
        "id": "-5LDeOw6IGig",
        "colab_type": "code",
        "colab": {
          "base_uri": "https://localhost:8080/",
          "height": 168
        },
        "outputId": "978a0d7a-e200-45bf-c328-6f7e30612dab"
      },
      "source": [
        "features = ['tickets', 'pbpurchase', 'pppurchase', 'totalwon', 'WinNoPP', 'WinPP']\n",
        "X = df[features]\n",
        "y = df['ticketswin']\n",
        "\n",
        "X_train, X_test, y_train, y_test = train_test_split(X,\n",
        "                                                    y, test_size=0.2,\n",
        "                                                    shuffle=False)\n",
        "\n",
        "X_train, X_val, y_train, y_val = train_test_split(X_train, y_train,\n",
        "                                                  test_size=0.2, shuffle=False)\n",
        "print(\"X_train    X_val    X_test  y_train  y_val  y_test\")\n",
        "print(X_train.shape, X_val.shape, X_test.shape, y_train.shape, y_val.shape, y_test.shape)\n",
        "print(\"X_train head(1)\")\n",
        "print(X_train.head(1))\n",
        "print()\n",
        "print(\"y_train.head(1)\")\n",
        "print(y_train.head(1))"
      ],
      "execution_count": 143,
      "outputs": [
        {
          "output_type": "stream",
          "text": [
            "X_train    X_val    X_test  y_train  y_val  y_test\n",
            "(315, 6) (79, 6) (99, 6) (315,) (79,) (99,)\n",
            "X_train head(1)\n",
            "    tickets  pbpurchase  pppurchase  totalwon  WinNoPP   WinPP\n",
            "0  10374959    20749918     2678995   4536567   323672  111613\n",
            "\n",
            "y_train.head(1)\n",
            "0    435285\n",
            "Name: ticketswin, dtype: int64\n"
          ],
          "name": "stdout"
        }
      ]
    },
    {
      "cell_type": "code",
      "metadata": {
        "id": "pBkskBfUlTGu",
        "colab_type": "code",
        "colab": {
          "base_uri": "https://localhost:8080/",
          "height": 402
        },
        "outputId": "a16086f9-b941-4eeb-cea3-e8547e709067"
      },
      "source": [
        "X_train"
      ],
      "execution_count": 144,
      "outputs": [
        {
          "output_type": "execute_result",
          "data": {
            "text/html": [
              "<div>\n",
              "<style scoped>\n",
              "    .dataframe tbody tr th:only-of-type {\n",
              "        vertical-align: middle;\n",
              "    }\n",
              "\n",
              "    .dataframe tbody tr th {\n",
              "        vertical-align: top;\n",
              "    }\n",
              "\n",
              "    .dataframe thead th {\n",
              "        text-align: right;\n",
              "    }\n",
              "</style>\n",
              "<table border=\"1\" class=\"dataframe\">\n",
              "  <thead>\n",
              "    <tr style=\"text-align: right;\">\n",
              "      <th></th>\n",
              "      <th>tickets</th>\n",
              "      <th>pbpurchase</th>\n",
              "      <th>pppurchase</th>\n",
              "      <th>totalwon</th>\n",
              "      <th>WinNoPP</th>\n",
              "      <th>WinPP</th>\n",
              "    </tr>\n",
              "  </thead>\n",
              "  <tbody>\n",
              "    <tr>\n",
              "      <th>0</th>\n",
              "      <td>10374959</td>\n",
              "      <td>20749918</td>\n",
              "      <td>2678995</td>\n",
              "      <td>4536567</td>\n",
              "      <td>323672</td>\n",
              "      <td>111613</td>\n",
              "    </tr>\n",
              "    <tr>\n",
              "      <th>1</th>\n",
              "      <td>9243787</td>\n",
              "      <td>18487574</td>\n",
              "      <td>2357707</td>\n",
              "      <td>3942296</td>\n",
              "      <td>283479</td>\n",
              "      <td>98358</td>\n",
              "    </tr>\n",
              "    <tr>\n",
              "      <th>2</th>\n",
              "      <td>10006606</td>\n",
              "      <td>20013212</td>\n",
              "      <td>2567607</td>\n",
              "      <td>5260784</td>\n",
              "      <td>312951</td>\n",
              "      <td>107039</td>\n",
              "    </tr>\n",
              "    <tr>\n",
              "      <th>3</th>\n",
              "      <td>9588292</td>\n",
              "      <td>19176584</td>\n",
              "      <td>2394843</td>\n",
              "      <td>25107271</td>\n",
              "      <td>282985</td>\n",
              "      <td>94580</td>\n",
              "    </tr>\n",
              "    <tr>\n",
              "      <th>4</th>\n",
              "      <td>10675612</td>\n",
              "      <td>21351224</td>\n",
              "      <td>2683881</td>\n",
              "      <td>5486360</td>\n",
              "      <td>312892</td>\n",
              "      <td>104950</td>\n",
              "    </tr>\n",
              "    <tr>\n",
              "      <th>...</th>\n",
              "      <td>...</td>\n",
              "      <td>...</td>\n",
              "      <td>...</td>\n",
              "      <td>...</td>\n",
              "      <td>...</td>\n",
              "      <td>...</td>\n",
              "    </tr>\n",
              "    <tr>\n",
              "      <th>310</th>\n",
              "      <td>14771246</td>\n",
              "      <td>29542492</td>\n",
              "      <td>3097862</td>\n",
              "      <td>5709764</td>\n",
              "      <td>437851</td>\n",
              "      <td>112348</td>\n",
              "    </tr>\n",
              "    <tr>\n",
              "      <th>311</th>\n",
              "      <td>12281657</td>\n",
              "      <td>24563314</td>\n",
              "      <td>2584623</td>\n",
              "      <td>4121561</td>\n",
              "      <td>391754</td>\n",
              "      <td>102882</td>\n",
              "    </tr>\n",
              "    <tr>\n",
              "      <th>312</th>\n",
              "      <td>13068148</td>\n",
              "      <td>26136296</td>\n",
              "      <td>2811853</td>\n",
              "      <td>6312991</td>\n",
              "      <td>429570</td>\n",
              "      <td>119647</td>\n",
              "    </tr>\n",
              "    <tr>\n",
              "      <th>313</th>\n",
              "      <td>11467702</td>\n",
              "      <td>22935404</td>\n",
              "      <td>2461796</td>\n",
              "      <td>6761649</td>\n",
              "      <td>392698</td>\n",
              "      <td>112053</td>\n",
              "    </tr>\n",
              "    <tr>\n",
              "      <th>314</th>\n",
              "      <td>12773447</td>\n",
              "      <td>25546894</td>\n",
              "      <td>2770104</td>\n",
              "      <td>4797277</td>\n",
              "      <td>381881</td>\n",
              "      <td>104840</td>\n",
              "    </tr>\n",
              "  </tbody>\n",
              "</table>\n",
              "<p>315 rows × 6 columns</p>\n",
              "</div>"
            ],
            "text/plain": [
              "      tickets  pbpurchase  pppurchase  totalwon  WinNoPP   WinPP\n",
              "0    10374959    20749918     2678995   4536567   323672  111613\n",
              "1     9243787    18487574     2357707   3942296   283479   98358\n",
              "2    10006606    20013212     2567607   5260784   312951  107039\n",
              "3     9588292    19176584     2394843  25107271   282985   94580\n",
              "4    10675612    21351224     2683881   5486360   312892  104950\n",
              "..        ...         ...         ...       ...      ...     ...\n",
              "310  14771246    29542492     3097862   5709764   437851  112348\n",
              "311  12281657    24563314     2584623   4121561   391754  102882\n",
              "312  13068148    26136296     2811853   6312991   429570  119647\n",
              "313  11467702    22935404     2461796   6761649   392698  112053\n",
              "314  12773447    25546894     2770104   4797277   381881  104840\n",
              "\n",
              "[315 rows x 6 columns]"
            ]
          },
          "metadata": {
            "tags": []
          },
          "execution_count": 144
        }
      ]
    },
    {
      "cell_type": "code",
      "metadata": {
        "id": "lQ-e7e3dlTKo",
        "colab_type": "code",
        "colab": {
          "base_uri": "https://localhost:8080/",
          "height": 218
        },
        "outputId": "90f31315-faa4-4a78-ebf1-38bc64355356"
      },
      "source": [
        "y_train"
      ],
      "execution_count": 145,
      "outputs": [
        {
          "output_type": "execute_result",
          "data": {
            "text/plain": [
              "0      435285\n",
              "1      381837\n",
              "2      419990\n",
              "3      377565\n",
              "4      417842\n",
              "        ...  \n",
              "310    550199\n",
              "311    494636\n",
              "312    549217\n",
              "313    504751\n",
              "314    486721\n",
              "Name: ticketswin, Length: 315, dtype: int64"
            ]
          },
          "metadata": {
            "tags": []
          },
          "execution_count": 145
        }
      ]
    },
    {
      "cell_type": "code",
      "metadata": {
        "id": "C6-38gGQlTNV",
        "colab_type": "code",
        "colab": {
          "base_uri": "https://localhost:8080/",
          "height": 402
        },
        "outputId": "ada1ec6e-811d-4e51-dacb-8911e13496ba"
      },
      "source": [
        "X_val"
      ],
      "execution_count": 146,
      "outputs": [
        {
          "output_type": "execute_result",
          "data": {
            "text/html": [
              "<div>\n",
              "<style scoped>\n",
              "    .dataframe tbody tr th:only-of-type {\n",
              "        vertical-align: middle;\n",
              "    }\n",
              "\n",
              "    .dataframe tbody tr th {\n",
              "        vertical-align: top;\n",
              "    }\n",
              "\n",
              "    .dataframe thead th {\n",
              "        text-align: right;\n",
              "    }\n",
              "</style>\n",
              "<table border=\"1\" class=\"dataframe\">\n",
              "  <thead>\n",
              "    <tr style=\"text-align: right;\">\n",
              "      <th></th>\n",
              "      <th>tickets</th>\n",
              "      <th>pbpurchase</th>\n",
              "      <th>pppurchase</th>\n",
              "      <th>totalwon</th>\n",
              "      <th>WinNoPP</th>\n",
              "      <th>WinPP</th>\n",
              "    </tr>\n",
              "  </thead>\n",
              "  <tbody>\n",
              "    <tr>\n",
              "      <th>315</th>\n",
              "      <td>11511527</td>\n",
              "      <td>23023054</td>\n",
              "      <td>2426778</td>\n",
              "      <td>2978458</td>\n",
              "      <td>339154</td>\n",
              "      <td>89124</td>\n",
              "    </tr>\n",
              "    <tr>\n",
              "      <th>316</th>\n",
              "      <td>67058726</td>\n",
              "      <td>134117452</td>\n",
              "      <td>9453046</td>\n",
              "      <td>458202359</td>\n",
              "      <td>2360887</td>\n",
              "      <td>389445</td>\n",
              "    </tr>\n",
              "    <tr>\n",
              "      <th>317</th>\n",
              "      <td>44618553</td>\n",
              "      <td>89237106</td>\n",
              "      <td>6474800</td>\n",
              "      <td>18459852</td>\n",
              "      <td>1597885</td>\n",
              "      <td>280532</td>\n",
              "    </tr>\n",
              "    <tr>\n",
              "      <th>318</th>\n",
              "      <td>38696865</td>\n",
              "      <td>77393730</td>\n",
              "      <td>6005951</td>\n",
              "      <td>16816907</td>\n",
              "      <td>1280535</td>\n",
              "      <td>234247</td>\n",
              "    </tr>\n",
              "    <tr>\n",
              "      <th>319</th>\n",
              "      <td>30853111</td>\n",
              "      <td>61706222</td>\n",
              "      <td>4780775</td>\n",
              "      <td>8931484</td>\n",
              "      <td>1052867</td>\n",
              "      <td>188244</td>\n",
              "    </tr>\n",
              "    <tr>\n",
              "      <th>...</th>\n",
              "      <td>...</td>\n",
              "      <td>...</td>\n",
              "      <td>...</td>\n",
              "      <td>...</td>\n",
              "      <td>...</td>\n",
              "      <td>...</td>\n",
              "    </tr>\n",
              "    <tr>\n",
              "      <th>389</th>\n",
              "      <td>11558313</td>\n",
              "      <td>23116626</td>\n",
              "      <td>2416779</td>\n",
              "      <td>4182262</td>\n",
              "      <td>340320</td>\n",
              "      <td>88915</td>\n",
              "    </tr>\n",
              "    <tr>\n",
              "      <th>390</th>\n",
              "      <td>12633761</td>\n",
              "      <td>25267522</td>\n",
              "      <td>2652582</td>\n",
              "      <td>5170094</td>\n",
              "      <td>382772</td>\n",
              "      <td>99320</td>\n",
              "    </tr>\n",
              "    <tr>\n",
              "      <th>391</th>\n",
              "      <td>11231180</td>\n",
              "      <td>22462360</td>\n",
              "      <td>2311038</td>\n",
              "      <td>4559952</td>\n",
              "      <td>358983</td>\n",
              "      <td>94426</td>\n",
              "    </tr>\n",
              "    <tr>\n",
              "      <th>392</th>\n",
              "      <td>22115862</td>\n",
              "      <td>44231724</td>\n",
              "      <td>3971731</td>\n",
              "      <td>250662296</td>\n",
              "      <td>712845</td>\n",
              "      <td>151764</td>\n",
              "    </tr>\n",
              "    <tr>\n",
              "      <th>393</th>\n",
              "      <td>19795129</td>\n",
              "      <td>39590258</td>\n",
              "      <td>3493659</td>\n",
              "      <td>10590604</td>\n",
              "      <td>657190</td>\n",
              "      <td>139387</td>\n",
              "    </tr>\n",
              "  </tbody>\n",
              "</table>\n",
              "<p>79 rows × 6 columns</p>\n",
              "</div>"
            ],
            "text/plain": [
              "      tickets  pbpurchase  pppurchase   totalwon  WinNoPP   WinPP\n",
              "315  11511527    23023054     2426778    2978458   339154   89124\n",
              "316  67058726   134117452     9453046  458202359  2360887  389445\n",
              "317  44618553    89237106     6474800   18459852  1597885  280532\n",
              "318  38696865    77393730     6005951   16816907  1280535  234247\n",
              "319  30853111    61706222     4780775    8931484  1052867  188244\n",
              "..        ...         ...         ...        ...      ...     ...\n",
              "389  11558313    23116626     2416779    4182262   340320   88915\n",
              "390  12633761    25267522     2652582    5170094   382772   99320\n",
              "391  11231180    22462360     2311038    4559952   358983   94426\n",
              "392  22115862    44231724     3971731  250662296   712845  151764\n",
              "393  19795129    39590258     3493659   10590604   657190  139387\n",
              "\n",
              "[79 rows x 6 columns]"
            ]
          },
          "metadata": {
            "tags": []
          },
          "execution_count": 146
        }
      ]
    },
    {
      "cell_type": "code",
      "metadata": {
        "id": "H6r1FqjRlTQM",
        "colab_type": "code",
        "colab": {
          "base_uri": "https://localhost:8080/",
          "height": 402
        },
        "outputId": "633b1718-aa65-453a-d8e3-4ec02dcf89aa"
      },
      "source": [
        "X_test"
      ],
      "execution_count": 147,
      "outputs": [
        {
          "output_type": "execute_result",
          "data": {
            "text/html": [
              "<div>\n",
              "<style scoped>\n",
              "    .dataframe tbody tr th:only-of-type {\n",
              "        vertical-align: middle;\n",
              "    }\n",
              "\n",
              "    .dataframe tbody tr th {\n",
              "        vertical-align: top;\n",
              "    }\n",
              "\n",
              "    .dataframe thead th {\n",
              "        text-align: right;\n",
              "    }\n",
              "</style>\n",
              "<table border=\"1\" class=\"dataframe\">\n",
              "  <thead>\n",
              "    <tr style=\"text-align: right;\">\n",
              "      <th></th>\n",
              "      <th>tickets</th>\n",
              "      <th>pbpurchase</th>\n",
              "      <th>pppurchase</th>\n",
              "      <th>totalwon</th>\n",
              "      <th>WinNoPP</th>\n",
              "      <th>WinPP</th>\n",
              "    </tr>\n",
              "  </thead>\n",
              "  <tbody>\n",
              "    <tr>\n",
              "      <th>394</th>\n",
              "      <td>20171285</td>\n",
              "      <td>40342570</td>\n",
              "      <td>3724955</td>\n",
              "      <td>8166658</td>\n",
              "      <td>673327</td>\n",
              "      <td>150373</td>\n",
              "    </tr>\n",
              "    <tr>\n",
              "      <th>395</th>\n",
              "      <td>16773364</td>\n",
              "      <td>33546728</td>\n",
              "      <td>3121924</td>\n",
              "      <td>7095046</td>\n",
              "      <td>531558</td>\n",
              "      <td>120417</td>\n",
              "    </tr>\n",
              "    <tr>\n",
              "      <th>396</th>\n",
              "      <td>18576104</td>\n",
              "      <td>37152208</td>\n",
              "      <td>3559387</td>\n",
              "      <td>5866038</td>\n",
              "      <td>589985</td>\n",
              "      <td>139584</td>\n",
              "    </tr>\n",
              "    <tr>\n",
              "      <th>397</th>\n",
              "      <td>16013013</td>\n",
              "      <td>32026026</td>\n",
              "      <td>2993551</td>\n",
              "      <td>4903726</td>\n",
              "      <td>545155</td>\n",
              "      <td>127675</td>\n",
              "    </tr>\n",
              "    <tr>\n",
              "      <th>398</th>\n",
              "      <td>17240544</td>\n",
              "      <td>34481088</td>\n",
              "      <td>3314556</td>\n",
              "      <td>4754812</td>\n",
              "      <td>525663</td>\n",
              "      <td>123081</td>\n",
              "    </tr>\n",
              "    <tr>\n",
              "      <th>...</th>\n",
              "      <td>...</td>\n",
              "      <td>...</td>\n",
              "      <td>...</td>\n",
              "      <td>...</td>\n",
              "      <td>...</td>\n",
              "      <td>...</td>\n",
              "    </tr>\n",
              "    <tr>\n",
              "      <th>488</th>\n",
              "      <td>13127663</td>\n",
              "      <td>26255326</td>\n",
              "      <td>2700970</td>\n",
              "      <td>4897217</td>\n",
              "      <td>408870</td>\n",
              "      <td>107297</td>\n",
              "    </tr>\n",
              "    <tr>\n",
              "      <th>489</th>\n",
              "      <td>11609552</td>\n",
              "      <td>23219104</td>\n",
              "      <td>2380290</td>\n",
              "      <td>3567346</td>\n",
              "      <td>347475</td>\n",
              "      <td>87629</td>\n",
              "    </tr>\n",
              "    <tr>\n",
              "      <th>490</th>\n",
              "      <td>12299521</td>\n",
              "      <td>24599042</td>\n",
              "      <td>2562917</td>\n",
              "      <td>4601904</td>\n",
              "      <td>360627</td>\n",
              "      <td>92359</td>\n",
              "    </tr>\n",
              "    <tr>\n",
              "      <th>491</th>\n",
              "      <td>10575956</td>\n",
              "      <td>21151912</td>\n",
              "      <td>2159819</td>\n",
              "      <td>7311904</td>\n",
              "      <td>343186</td>\n",
              "      <td>87714</td>\n",
              "    </tr>\n",
              "    <tr>\n",
              "      <th>492</th>\n",
              "      <td>12446512</td>\n",
              "      <td>24893024</td>\n",
              "      <td>2568995</td>\n",
              "      <td>5603757</td>\n",
              "      <td>318229</td>\n",
              "      <td>81655</td>\n",
              "    </tr>\n",
              "  </tbody>\n",
              "</table>\n",
              "<p>99 rows × 6 columns</p>\n",
              "</div>"
            ],
            "text/plain": [
              "      tickets  pbpurchase  pppurchase  totalwon  WinNoPP   WinPP\n",
              "394  20171285    40342570     3724955   8166658   673327  150373\n",
              "395  16773364    33546728     3121924   7095046   531558  120417\n",
              "396  18576104    37152208     3559387   5866038   589985  139584\n",
              "397  16013013    32026026     2993551   4903726   545155  127675\n",
              "398  17240544    34481088     3314556   4754812   525663  123081\n",
              "..        ...         ...         ...       ...      ...     ...\n",
              "488  13127663    26255326     2700970   4897217   408870  107297\n",
              "489  11609552    23219104     2380290   3567346   347475   87629\n",
              "490  12299521    24599042     2562917   4601904   360627   92359\n",
              "491  10575956    21151912     2159819   7311904   343186   87714\n",
              "492  12446512    24893024     2568995   5603757   318229   81655\n",
              "\n",
              "[99 rows x 6 columns]"
            ]
          },
          "metadata": {
            "tags": []
          },
          "execution_count": 147
        }
      ]
    },
    {
      "cell_type": "code",
      "metadata": {
        "id": "9obfbdK8DZiY",
        "colab_type": "code",
        "colab": {
          "base_uri": "https://localhost:8080/",
          "height": 151
        },
        "outputId": "4bdcb331-95a2-49b4-f2d3-0a227ae9aa9b"
      },
      "source": [
        "from xgboost import XGBRegressor\n",
        "\n",
        "reg = XGBRegressor(n_estimators=500, n_jobs=-1)\n",
        "\n",
        "reg.fit(X_train, y_train)\n"
      ],
      "execution_count": 148,
      "outputs": [
        {
          "output_type": "stream",
          "text": [
            "[00:30:48] WARNING: /workspace/src/objective/regression_obj.cu:152: reg:linear is now deprecated in favor of reg:squarederror.\n"
          ],
          "name": "stdout"
        },
        {
          "output_type": "execute_result",
          "data": {
            "text/plain": [
              "XGBRegressor(base_score=0.5, booster='gbtree', colsample_bylevel=1,\n",
              "             colsample_bynode=1, colsample_bytree=1, gamma=0,\n",
              "             importance_type='gain', learning_rate=0.1, max_delta_step=0,\n",
              "             max_depth=3, min_child_weight=1, missing=None, n_estimators=500,\n",
              "             n_jobs=-1, nthread=None, objective='reg:linear', random_state=0,\n",
              "             reg_alpha=0, reg_lambda=1, scale_pos_weight=1, seed=None,\n",
              "             silent=None, subsample=1, verbosity=1)"
            ]
          },
          "metadata": {
            "tags": []
          },
          "execution_count": 148
        }
      ]
    },
    {
      "cell_type": "code",
      "metadata": {
        "id": "r_ezlneIp4y6",
        "colab_type": "code",
        "colab": {
          "base_uri": "https://localhost:8080/",
          "height": 34
        },
        "outputId": "c9beb36c-d759-40f8-a348-8a416c7dce2d"
      },
      "source": [
        "y_pred = reg.predict(X_val)\n",
        "print(f'Validation accuracy: {reg.score(X_val, y_val)}')"
      ],
      "execution_count": 149,
      "outputs": [
        {
          "output_type": "stream",
          "text": [
            "Validation accuracy: 0.9916111117595944\n"
          ],
          "name": "stdout"
        }
      ]
    },
    {
      "cell_type": "code",
      "metadata": {
        "id": "U4F-2HbWp45G",
        "colab_type": "code",
        "colab": {
          "base_uri": "https://localhost:8080/",
          "height": 307
        },
        "outputId": "439dc493-5da0-4a1b-c14b-a8e868557e51"
      },
      "source": [
        "%matplotlib inline  \n",
        "import seaborn as sns\n",
        "sns.distplot(y_train)"
      ],
      "execution_count": 150,
      "outputs": [
        {
          "output_type": "execute_result",
          "data": {
            "text/plain": [
              "<matplotlib.axes._subplots.AxesSubplot at 0x7fc6c146e978>"
            ]
          },
          "metadata": {
            "tags": []
          },
          "execution_count": 150
        },
        {
          "output_type": "display_data",
          "data": {
            "image/png": "[encoded data removed]",
            "text/plain": [
              "<Figure size 432x288 with 1 Axes>"
            ]
          },
          "metadata": {
            "tags": [],
            "needs_background": "light"
          }
        }
      ]
    },
    {
      "cell_type": "code",
      "metadata": {
        "id": "BaIs1_3Pp5Bh",
        "colab_type": "code",
        "colab": {
          "base_uri": "https://localhost:8080/",
          "height": 307
        },
        "outputId": "5a48a387-51ae-42cd-88cf-7a07002f9928"
      },
      "source": [
        "sns.distplot(y_val)"
      ],
      "execution_count": 151,
      "outputs": [
        {
          "output_type": "execute_result",
          "data": {
            "text/plain": [
              "<matplotlib.axes._subplots.AxesSubplot at 0x7fc6c146ea20>"
            ]
          },
          "metadata": {
            "tags": []
          },
          "execution_count": 151
        },
        {
          "output_type": "display_data",
          "data": {
            "image/png": "[encoded data removed]",
            "text/plain": [
              "<Figure size 432x288 with 1 Axes>"
            ]
          },
          "metadata": {
            "tags": [],
            "needs_background": "light"
          }
        }
      ]
    },
    {
      "cell_type": "code",
      "metadata": {
        "id": "JSwiZbPgp5EP",
        "colab_type": "code",
        "colab": {
          "base_uri": "https://localhost:8080/",
          "height": 307
        },
        "outputId": "46a9371f-aaf7-4d81-d697-fb9404d99a6d"
      },
      "source": [
        "sns.distplot(y_test)"
      ],
      "execution_count": 152,
      "outputs": [
        {
          "output_type": "execute_result",
          "data": {
            "text/plain": [
              "<matplotlib.axes._subplots.AxesSubplot at 0x7fc6c14f5b00>"
            ]
          },
          "metadata": {
            "tags": []
          },
          "execution_count": 152
        },
        {
          "output_type": "display_data",
          "data": {
            "image/png": "[encoded data removed]",
            "text/plain": [
              "<Figure size 432x288 with 1 Axes>"
            ]
          },
          "metadata": {
            "tags": [],
            "needs_background": "light"
          }
        }
      ]
    },
    {
      "cell_type": "code",
      "metadata": {
        "id": "-xTvWHcpp5HN",
        "colab_type": "code",
        "colab": {
          "base_uri": "https://localhost:8080/",
          "height": 168
        },
        "outputId": "27cf7c72-8639-41bb-b01a-294a69f094d1"
      },
      "source": [
        "X_val['tickets'].describe()"
      ],
      "execution_count": 153,
      "outputs": [
        {
          "output_type": "execute_result",
          "data": {
            "text/plain": [
              "count    7.900000e+01\n",
              "mean     1.970535e+07\n",
              "std      1.155023e+07\n",
              "min      1.104527e+07\n",
              "25%      1.324622e+07\n",
              "50%      1.568545e+07\n",
              "75%      2.122545e+07\n",
              "max      7.495275e+07\n",
              "Name: tickets, dtype: float64"
            ]
          },
          "metadata": {
            "tags": []
          },
          "execution_count": 153
        }
      ]
    },
    {
      "cell_type": "code",
      "metadata": {
        "id": "v23Lw9Glp5Ni",
        "colab_type": "code",
        "colab": {
          "base_uri": "https://localhost:8080/",
          "height": 168
        },
        "outputId": "b43b742c-1ffb-4e09-aa49-79bcb34569f7"
      },
      "source": [
        "X_train['tickets'].describe()"
      ],
      "execution_count": 154,
      "outputs": [
        {
          "output_type": "execute_result",
          "data": {
            "text/plain": [
              "count    3.150000e+02\n",
              "mean     1.936957e+07\n",
              "std      1.979829e+07\n",
              "min      7.569646e+06\n",
              "25%      1.229948e+07\n",
              "50%      1.454938e+07\n",
              "75%      1.830888e+07\n",
              "max      2.288416e+08\n",
              "Name: tickets, dtype: float64"
            ]
          },
          "metadata": {
            "tags": []
          },
          "execution_count": 154
        }
      ]
    },
    {
      "cell_type": "code",
      "metadata": {
        "id": "-3s6Tc7Vp5Q9",
        "colab_type": "code",
        "colab": {
          "base_uri": "https://localhost:8080/",
          "height": 168
        },
        "outputId": "d1e9a810-6304-41b8-c8a6-ad8dd6fcf2af"
      },
      "source": [
        "X_test['tickets'].describe()"
      ],
      "execution_count": 155,
      "outputs": [
        {
          "output_type": "execute_result",
          "data": {
            "text/plain": [
              "count    9.900000e+01\n",
              "mean     3.195926e+07\n",
              "std      7.670614e+07\n",
              "min      1.041271e+07\n",
              "25%      1.385377e+07\n",
              "50%      1.642494e+07\n",
              "75%      2.313144e+07\n",
              "max      6.351031e+08\n",
              "Name: tickets, dtype: float64"
            ]
          },
          "metadata": {
            "tags": []
          },
          "execution_count": 155
        }
      ]
    },
    {
      "cell_type": "code",
      "metadata": {
        "id": "bIXt7hLYp5V2",
        "colab_type": "code",
        "colab": {}
      },
      "source": [
        "plt.rcParams['figure.dpi'] = 72\n"
      ],
      "execution_count": 156,
      "outputs": []
    },
    {
      "cell_type": "code",
      "metadata": {
        "id": "QPdoewJ8p5Yy",
        "colab_type": "code",
        "colab": {
          "base_uri": "https://localhost:8080/",
          "height": 272
        },
        "outputId": "97af1146-b3f5-4601-cafd-83f132b5ce99"
      },
      "source": [
        "! pip install pdpbox"
      ],
      "execution_count": 157,
      "outputs": [
        {
          "output_type": "stream",
          "text": [
            "Requirement already satisfied: pdpbox in /usr/local/lib/python3.6/dist-packages (0.2.0)\n",
            "Requirement already satisfied: numpy in /usr/local/lib/python3.6/dist-packages (from pdpbox) (1.18.5)\n",
            "Requirement already satisfied: pandas in /usr/local/lib/python3.6/dist-packages (from pdpbox) (1.0.5)\n",
            "Requirement already satisfied: matplotlib>=2.1.2 in /usr/local/lib/python3.6/dist-packages (from pdpbox) (3.2.2)\n",
            "Requirement already satisfied: joblib in /usr/local/lib/python3.6/dist-packages (from pdpbox) (0.15.1)\n",
            "Requirement already satisfied: scipy in /usr/local/lib/python3.6/dist-packages (from pdpbox) (1.4.1)\n",
            "Requirement already satisfied: psutil in /usr/local/lib/python3.6/dist-packages (from pdpbox) (5.4.8)\n",
            "Requirement already satisfied: scikit-learn in /usr/local/lib/python3.6/dist-packages (from pdpbox) (0.22.2.post1)\n",
            "Requirement already satisfied: pytz>=2017.2 in /usr/local/lib/python3.6/dist-packages (from pandas->pdpbox) (2018.9)\n",
            "Requirement already satisfied: python-dateutil>=2.6.1 in /usr/local/lib/python3.6/dist-packages (from pandas->pdpbox) (2.8.1)\n",
            "Requirement already satisfied: cycler>=0.10 in /usr/local/lib/python3.6/dist-packages (from matplotlib>=2.1.2->pdpbox) (0.10.0)\n",
            "Requirement already satisfied: pyparsing!=2.0.4,!=2.1.2,!=2.1.6,>=2.0.1 in /usr/local/lib/python3.6/dist-packages (from matplotlib>=2.1.2->pdpbox) (2.4.7)\n",
            "Requirement already satisfied: kiwisolver>=1.0.1 in /usr/local/lib/python3.6/dist-packages (from matplotlib>=2.1.2->pdpbox) (1.2.0)\n",
            "Requirement already satisfied: six>=1.5 in /usr/local/lib/python3.6/dist-packages (from python-dateutil>=2.6.1->pandas->pdpbox) (1.12.0)\n"
          ],
          "name": "stdout"
        }
      ]
    },
    {
      "cell_type": "code",
      "metadata": {
        "id": "7fWNgsPnp5dG",
        "colab_type": "code",
        "colab": {}
      },
      "source": [
        "from pdpbox.pdp import pdp_isolate, pdp_plot, pdp_interact, pdp_interact_plot"
      ],
      "execution_count": 158,
      "outputs": []
    },
    {
      "cell_type": "code",
      "metadata": {
        "id": "3cuP0HySp5bQ",
        "colab_type": "code",
        "colab": {
          "base_uri": "https://localhost:8080/",
          "height": 578
        },
        "outputId": "820a0740-ed13-431f-8dfb-a30920865d50"
      },
      "source": [
        "feature = 'tickets'\n",
        "\n",
        "isolated = pdp_isolate(\n",
        "    model = reg,\n",
        "    dataset = X_train,\n",
        "    model_features=X_train.columns,\n",
        "    feature=feature\n",
        ")\n",
        "\n",
        "pdp_plot(isolated, feature_name=feature,plot_lines=True);"
      ],
      "execution_count": 159,
      "outputs": [
        {
          "output_type": "display_data",
          "data": {
            "image/png": "[encoded data removed]",
            "text/plain": [
              "<Figure size 1080x684 with 2 Axes>"
            ]
          },
          "metadata": {
            "tags": [],
            "needs_background": "light"
          }
        }
      ]
    },
    {
      "cell_type": "code",
      "metadata": {
        "id": "A4YOxzkhDZmp",
        "colab_type": "code",
        "colab": {
          "base_uri": "https://localhost:8080/",
          "height": 578
        },
        "outputId": "e03afa0d-86c1-4d47-e324-c6f92a669726"
      },
      "source": [
        "feature = 'tickets'\n",
        "\n",
        "isolated = pdp_isolate(\n",
        "    model = reg,\n",
        "    dataset = X_val,\n",
        "    model_features=X_val.columns,\n",
        "    feature=feature\n",
        ")\n",
        "\n",
        "pdp_plot(isolated, feature_name=feature,plot_lines=True);"
      ],
      "execution_count": 160,
      "outputs": [
        {
          "output_type": "display_data",
          "data": {
            "image/png": "[encoded data removed]",
            "text/plain": [
              "<Figure size 1080x684 with 2 Axes>"
            ]
          },
          "metadata": {
            "tags": [],
            "needs_background": "light"
          }
        }
      ]
    },
    {
      "cell_type": "code",
      "metadata": {
        "id": "Vq-RlHTxDZqw",
        "colab_type": "code",
        "colab": {
          "base_uri": "https://localhost:8080/",
          "height": 578
        },
        "outputId": "70b95087-2ffd-4c47-fc25-b3486711782d"
      },
      "source": [
        "feature = 'tickets'\n",
        "\n",
        "isolated = pdp_isolate(\n",
        "    model = reg,\n",
        "    dataset = X_test,\n",
        "    model_features=X_test.columns,\n",
        "    feature=feature\n",
        ")\n",
        "\n",
        "pdp_plot(isolated, feature_name=feature,plot_lines=True);"
      ],
      "execution_count": 161,
      "outputs": [
        {
          "output_type": "display_data",
          "data": {
            "image/png": "[encoded data removed]",
            "text/plain": [
              "<Figure size 1080x684 with 2 Axes>"
            ]
          },
          "metadata": {
            "tags": [],
            "needs_background": "light"
          }
        }
      ]
    },
    {
      "cell_type": "code",
      "metadata": {
        "id": "CvOJQ-jMDZVi",
        "colab_type": "code",
        "colab": {
          "base_uri": "https://localhost:8080/",
          "height": 631
        },
        "outputId": "fa94071d-24a6-40ca-c8e9-fe58e5a8f7dc"
      },
      "source": [
        "features = ['WinNoPP', 'WinPP']\n",
        "\n",
        "interact = pdp_interact(\n",
        "    model = reg,\n",
        "    dataset = X_val,\n",
        "    model_features=X_val.columns,\n",
        "    features=features\n",
        ")\n",
        "\n",
        "pdp_interact_plot(interact, plot_type='grid', feature_names=feature)"
      ],
      "execution_count": 162,
      "outputs": [
        {
          "output_type": "execute_result",
          "data": {
            "text/plain": [
              "(<Figure size 540x684 with 3 Axes>,\n",
              " {'pdp_inter_ax': <matplotlib.axes._subplots.AxesSubplot at 0x7fc6ce964240>,\n",
              "  'title_ax': <matplotlib.axes._subplots.AxesSubplot at 0x7fc6c0d0f6a0>})"
            ]
          },
          "metadata": {
            "tags": []
          },
          "execution_count": 162
        },
        {
          "output_type": "display_data",
          "data": {
            "image/png": "[encoded data removed]",
            "text/plain": [
              "<Figure size 540x684 with 3 Axes>"
            ]
          },
          "metadata": {
            "tags": [],
            "needs_background": "light"
          }
        }
      ]
    }
  ]
}