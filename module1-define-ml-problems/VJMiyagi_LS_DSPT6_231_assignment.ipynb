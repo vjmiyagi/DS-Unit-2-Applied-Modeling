{
  "nbformat": 4,
  "nbformat_minor": 0,
  "metadata": {
    "kernelspec": {
      "display_name": "Python 3",
      "language": "python",
      "name": "python3"
    },
    "language_info": {
      "codemirror_mode": {
        "name": "ipython",
        "version": 3
      },
      "file_extension": ".py",
      "mimetype": "text/x-python",
      "name": "python",
      "nbconvert_exporter": "python",
      "pygments_lexer": "ipython3",
      "version": "3.7.6"
    },
    "colab": {
      "name": "VJMiyagi_LS_DSPT6_231_assignment.ipynb",
      "provenance": [],
      "collapsed_sections": [],
      "toc_visible": true,
      "include_colab_link": true
    }
  },
  "cells": [
    {
      "cell_type": "markdown",
      "metadata": {
        "id": "view-in-github",
        "colab_type": "text"
      },
      "source": [
        "<a href=\"https://colab.research.google.com/github/vjmiyagi/DS-Unit-2-Applied-Modeling/blob/master/module1-define-ml-problems/VJMiyagi_LS_DSPT6_231_assignment.ipynb\" target=\"_parent\"><img src=\"https://colab.research.google.com/assets/colab-badge.svg\" alt=\"Open In Colab\"/></a>"
      ]
    },
    {
      "cell_type": "markdown",
      "metadata": {
        "colab_type": "text",
        "id": "nCc3XZEyG3XV"
      },
      "source": [
        "Lambda School Data Science\n",
        "\n",
        "*Unit 2, Sprint 3, Module 1*\n",
        "\n",
        "---\n",
        "\n",
        "\n",
        "# Define ML problems\n",
        "\n",
        "You will use your portfolio project dataset for all assignments this sprint.\n",
        "\n",
        "## Assignment\n",
        "\n",
        "Complete these tasks for your project, and document your decisions.\n",
        "\n",
        "- [ ] Choose your target. Which column in your tabular dataset will you predict?\n",
        "- [ ] Is your problem regression or classification?\n",
        "- [ ] How is your target distributed?\n",
        "    - Classification: How many classes? Are the classes imbalanced?\n",
        "    - Regression: Is the target right-skewed? If so, you may want to log transform the target.\n",
        "- [ ] Choose your evaluation metric(s).\n",
        "    - Classification: Is your majority class frequency >= 50% and < 70% ? If so, you can just use accuracy if you want. Outside that range, accuracy could be misleading. What evaluation metric will you choose, in addition to or instead of accuracy?\n",
        "    - Regression: Will you use mean absolute error, root mean squared error, R^2, or other regression metrics?\n",
        "- [ ] Choose which observations you will use to train, validate, and test your model.\n",
        "    - Are some observations outliers? Will you exclude them?\n",
        "    - Will you do a random split or a time-based split?\n",
        "- [ ] Begin to clean and explore your data.\n",
        "- [ ] Begin to choose which features, if any, to exclude. Would some features \"leak\" future information?\n",
        "\n",
        "If you haven't found a dataset yet, do that today. [Review requirements for your portfolio project](https://lambdaschool.github.io/ds/unit2) and choose your dataset.\n",
        "\n",
        "Some students worry, ***what if my model isn't “good”?*** Then, [produce a detailed tribute to your wrongness. That is science!](https://twitter.com/nathanwpyle/status/1176860147223867393)"
      ]
    },
    {
      "cell_type": "markdown",
      "metadata": {
        "id": "QnlOT6wSSW1H",
        "colab_type": "text"
      },
      "source": [
        "#  Choose your target. Which column in your tabular dataset will you predict?\n"
      ]
    },
    {
      "cell_type": "markdown",
      "metadata": {
        "id": "FG9v7lWYTT1T",
        "colab_type": "text"
      },
      "source": [
        "# Powerball\n",
        "\n",
        "Predict whether or not there will be a winner "
      ]
    },
    {
      "cell_type": "code",
      "metadata": {
        "id": "B5MSxV8ET5nd",
        "colab_type": "code",
        "colab": {}
      },
      "source": [
        "import pandas as pd\n",
        "import numpy as np"
      ],
      "execution_count": 0,
      "outputs": []
    },
    {
      "cell_type": "code",
      "metadata": {
        "id": "PxXBtihOYXrB",
        "colab_type": "code",
        "colab": {}
      },
      "source": [
        "pb_df = pd.read_csv('PBfrom1998.csv')"
      ],
      "execution_count": 0,
      "outputs": []
    },
    {
      "cell_type": "code",
      "metadata": {
        "id": "e3_2H1ovYXtx",
        "colab_type": "code",
        "outputId": "d501782e-4516-4532-c89d-a5600fc0d43f",
        "colab": {
          "base_uri": "https://localhost:8080/",
          "height": 203
        }
      },
      "source": [
        "pb_df.head()"
      ],
      "execution_count": 18,
      "outputs": [
        {
          "output_type": "execute_result",
          "data": {
            "text/html": [
              "<div>\n",
              "<style scoped>\n",
              "    .dataframe tbody tr th:only-of-type {\n",
              "        vertical-align: middle;\n",
              "    }\n",
              "\n",
              "    .dataframe tbody tr th {\n",
              "        vertical-align: top;\n",
              "    }\n",
              "\n",
              "    .dataframe thead th {\n",
              "        text-align: right;\n",
              "    }\n",
              "</style>\n",
              "<table border=\"1\" class=\"dataframe\">\n",
              "  <thead>\n",
              "    <tr style=\"text-align: right;\">\n",
              "      <th></th>\n",
              "      <th>num</th>\n",
              "      <th>date</th>\n",
              "      <th>b1</th>\n",
              "      <th>b2</th>\n",
              "      <th>b3</th>\n",
              "      <th>b4</th>\n",
              "      <th>b5</th>\n",
              "      <th>pb</th>\n",
              "      <th>pp</th>\n",
              "      <th>jackpot</th>\n",
              "      <th>winner</th>\n",
              "      <th>Draw Date</th>\n",
              "      <th>Jackpot Prize</th>\n",
              "      <th>Lucky</th>\n",
              "    </tr>\n",
              "  </thead>\n",
              "  <tbody>\n",
              "    <tr>\n",
              "      <th>0</th>\n",
              "      <td>2356</td>\n",
              "      <td>5/30/2020</td>\n",
              "      <td>32</td>\n",
              "      <td>13</td>\n",
              "      <td>58</td>\n",
              "      <td>41</td>\n",
              "      <td>60</td>\n",
              "      <td>14</td>\n",
              "      <td>2.0</td>\n",
              "      <td>125000000</td>\n",
              "      <td>NaN</td>\n",
              "      <td>4/8/2020</td>\n",
              "      <td>$190 Million</td>\n",
              "      <td>1.0</td>\n",
              "    </tr>\n",
              "    <tr>\n",
              "      <th>1</th>\n",
              "      <td>2355</td>\n",
              "      <td>5/27/2020</td>\n",
              "      <td>58</td>\n",
              "      <td>38</td>\n",
              "      <td>59</td>\n",
              "      <td>64</td>\n",
              "      <td>68</td>\n",
              "      <td>21</td>\n",
              "      <td>3.0</td>\n",
              "      <td>114000000</td>\n",
              "      <td>NaN</td>\n",
              "      <td>2/15/2020</td>\n",
              "      <td>$70 Million</td>\n",
              "      <td>1.0</td>\n",
              "    </tr>\n",
              "    <tr>\n",
              "      <th>2</th>\n",
              "      <td>2354</td>\n",
              "      <td>5/23/2020</td>\n",
              "      <td>2</td>\n",
              "      <td>23</td>\n",
              "      <td>8</td>\n",
              "      <td>18</td>\n",
              "      <td>21</td>\n",
              "      <td>16</td>\n",
              "      <td>4.0</td>\n",
              "      <td>104000000</td>\n",
              "      <td>NaN</td>\n",
              "      <td>1/29/2020</td>\n",
              "      <td>$396.9 Million</td>\n",
              "      <td>1.0</td>\n",
              "    </tr>\n",
              "    <tr>\n",
              "      <th>3</th>\n",
              "      <td>2353</td>\n",
              "      <td>5/20/2020</td>\n",
              "      <td>42</td>\n",
              "      <td>40</td>\n",
              "      <td>50</td>\n",
              "      <td>18</td>\n",
              "      <td>34</td>\n",
              "      <td>9</td>\n",
              "      <td>2.0</td>\n",
              "      <td>95000000</td>\n",
              "      <td>NaN</td>\n",
              "      <td>11/2/2019</td>\n",
              "      <td>$150 Million</td>\n",
              "      <td>1.0</td>\n",
              "    </tr>\n",
              "    <tr>\n",
              "      <th>4</th>\n",
              "      <td>2352</td>\n",
              "      <td>5/16/2020</td>\n",
              "      <td>8</td>\n",
              "      <td>12</td>\n",
              "      <td>26</td>\n",
              "      <td>42</td>\n",
              "      <td>39</td>\n",
              "      <td>11</td>\n",
              "      <td>2.0</td>\n",
              "      <td>86000000</td>\n",
              "      <td>NaN</td>\n",
              "      <td>9/21/2019</td>\n",
              "      <td>$80 Million</td>\n",
              "      <td>1.0</td>\n",
              "    </tr>\n",
              "  </tbody>\n",
              "</table>\n",
              "</div>"
            ],
            "text/plain": [
              "    num       date  b1  b2  ...  winner  Draw Date   Jackpot Prize  Lucky\n",
              "0  2356  5/30/2020  32  13  ...     NaN   4/8/2020    $190 Million    1.0\n",
              "1  2355  5/27/2020  58  38  ...     NaN  2/15/2020     $70 Million    1.0\n",
              "2  2354  5/23/2020   2  23  ...     NaN  1/29/2020  $396.9 Million    1.0\n",
              "3  2353  5/20/2020  42  40  ...     NaN  11/2/2019    $150 Million    1.0\n",
              "4  2352  5/16/2020   8  12  ...     NaN  9/21/2019     $80 Million    1.0\n",
              "\n",
              "[5 rows x 14 columns]"
            ]
          },
          "metadata": {
            "tags": []
          },
          "execution_count": 18
        }
      ]
    },
    {
      "cell_type": "code",
      "metadata": {
        "id": "ribzj3xnYXwz",
        "colab_type": "code",
        "colab": {}
      },
      "source": [
        "win_df = pb_df[['Draw Date', 'Jackpot Prize', 'Lucky']]"
      ],
      "execution_count": 0,
      "outputs": []
    },
    {
      "cell_type": "code",
      "metadata": {
        "id": "phijgjaZYX0M",
        "colab_type": "code",
        "colab": {
          "base_uri": "https://localhost:8080/",
          "height": 203
        },
        "outputId": "1aec49d9-a1a1-4222-bee0-c1efd08d7e02"
      },
      "source": [
        "win_df.head()"
      ],
      "execution_count": 25,
      "outputs": [
        {
          "output_type": "execute_result",
          "data": {
            "text/html": [
              "<div>\n",
              "<style scoped>\n",
              "    .dataframe tbody tr th:only-of-type {\n",
              "        vertical-align: middle;\n",
              "    }\n",
              "\n",
              "    .dataframe tbody tr th {\n",
              "        vertical-align: top;\n",
              "    }\n",
              "\n",
              "    .dataframe thead th {\n",
              "        text-align: right;\n",
              "    }\n",
              "</style>\n",
              "<table border=\"1\" class=\"dataframe\">\n",
              "  <thead>\n",
              "    <tr style=\"text-align: right;\">\n",
              "      <th></th>\n",
              "      <th>Draw Date</th>\n",
              "      <th>Jackpot Prize</th>\n",
              "      <th>Lucky</th>\n",
              "    </tr>\n",
              "  </thead>\n",
              "  <tbody>\n",
              "    <tr>\n",
              "      <th>0</th>\n",
              "      <td>4/8/2020</td>\n",
              "      <td>$190 Million</td>\n",
              "      <td>1.0</td>\n",
              "    </tr>\n",
              "    <tr>\n",
              "      <th>1</th>\n",
              "      <td>2/15/2020</td>\n",
              "      <td>$70 Million</td>\n",
              "      <td>1.0</td>\n",
              "    </tr>\n",
              "    <tr>\n",
              "      <th>2</th>\n",
              "      <td>1/29/2020</td>\n",
              "      <td>$396.9 Million</td>\n",
              "      <td>1.0</td>\n",
              "    </tr>\n",
              "    <tr>\n",
              "      <th>3</th>\n",
              "      <td>11/2/2019</td>\n",
              "      <td>$150 Million</td>\n",
              "      <td>1.0</td>\n",
              "    </tr>\n",
              "    <tr>\n",
              "      <th>4</th>\n",
              "      <td>9/21/2019</td>\n",
              "      <td>$80 Million</td>\n",
              "      <td>1.0</td>\n",
              "    </tr>\n",
              "  </tbody>\n",
              "</table>\n",
              "</div>"
            ],
            "text/plain": [
              "   Draw Date   Jackpot Prize  Lucky\n",
              "0   4/8/2020    $190 Million    1.0\n",
              "1  2/15/2020     $70 Million    1.0\n",
              "2  1/29/2020  $396.9 Million    1.0\n",
              "3  11/2/2019    $150 Million    1.0\n",
              "4  9/21/2019     $80 Million    1.0"
            ]
          },
          "metadata": {
            "tags": []
          },
          "execution_count": 25
        }
      ]
    },
    {
      "cell_type": "code",
      "metadata": {
        "id": "Hv9SFPKbYnTG",
        "colab_type": "code",
        "colab": {}
      },
      "source": [
        "pb_df = pb_df.drop(columns=['num', 'Draw Date', 'Jackpot Prize', 'Lucky'])"
      ],
      "execution_count": 0,
      "outputs": []
    },
    {
      "cell_type": "code",
      "metadata": {
        "id": "YGsMwncRYqzi",
        "colab_type": "code",
        "colab": {
          "base_uri": "https://localhost:8080/",
          "height": 203
        },
        "outputId": "f80b998a-35f9-4a41-f429-b0c92b542e73"
      },
      "source": [
        "pb_df.head()"
      ],
      "execution_count": 22,
      "outputs": [
        {
          "output_type": "execute_result",
          "data": {
            "text/html": [
              "<div>\n",
              "<style scoped>\n",
              "    .dataframe tbody tr th:only-of-type {\n",
              "        vertical-align: middle;\n",
              "    }\n",
              "\n",
              "    .dataframe tbody tr th {\n",
              "        vertical-align: top;\n",
              "    }\n",
              "\n",
              "    .dataframe thead th {\n",
              "        text-align: right;\n",
              "    }\n",
              "</style>\n",
              "<table border=\"1\" class=\"dataframe\">\n",
              "  <thead>\n",
              "    <tr style=\"text-align: right;\">\n",
              "      <th></th>\n",
              "      <th>date</th>\n",
              "      <th>b1</th>\n",
              "      <th>b2</th>\n",
              "      <th>b3</th>\n",
              "      <th>b4</th>\n",
              "      <th>b5</th>\n",
              "      <th>pb</th>\n",
              "      <th>pp</th>\n",
              "      <th>jackpot</th>\n",
              "      <th>winner</th>\n",
              "    </tr>\n",
              "  </thead>\n",
              "  <tbody>\n",
              "    <tr>\n",
              "      <th>0</th>\n",
              "      <td>5/30/2020</td>\n",
              "      <td>32</td>\n",
              "      <td>13</td>\n",
              "      <td>58</td>\n",
              "      <td>41</td>\n",
              "      <td>60</td>\n",
              "      <td>14</td>\n",
              "      <td>2.0</td>\n",
              "      <td>125000000</td>\n",
              "      <td>NaN</td>\n",
              "    </tr>\n",
              "    <tr>\n",
              "      <th>1</th>\n",
              "      <td>5/27/2020</td>\n",
              "      <td>58</td>\n",
              "      <td>38</td>\n",
              "      <td>59</td>\n",
              "      <td>64</td>\n",
              "      <td>68</td>\n",
              "      <td>21</td>\n",
              "      <td>3.0</td>\n",
              "      <td>114000000</td>\n",
              "      <td>NaN</td>\n",
              "    </tr>\n",
              "    <tr>\n",
              "      <th>2</th>\n",
              "      <td>5/23/2020</td>\n",
              "      <td>2</td>\n",
              "      <td>23</td>\n",
              "      <td>8</td>\n",
              "      <td>18</td>\n",
              "      <td>21</td>\n",
              "      <td>16</td>\n",
              "      <td>4.0</td>\n",
              "      <td>104000000</td>\n",
              "      <td>NaN</td>\n",
              "    </tr>\n",
              "    <tr>\n",
              "      <th>3</th>\n",
              "      <td>5/20/2020</td>\n",
              "      <td>42</td>\n",
              "      <td>40</td>\n",
              "      <td>50</td>\n",
              "      <td>18</td>\n",
              "      <td>34</td>\n",
              "      <td>9</td>\n",
              "      <td>2.0</td>\n",
              "      <td>95000000</td>\n",
              "      <td>NaN</td>\n",
              "    </tr>\n",
              "    <tr>\n",
              "      <th>4</th>\n",
              "      <td>5/16/2020</td>\n",
              "      <td>8</td>\n",
              "      <td>12</td>\n",
              "      <td>26</td>\n",
              "      <td>42</td>\n",
              "      <td>39</td>\n",
              "      <td>11</td>\n",
              "      <td>2.0</td>\n",
              "      <td>86000000</td>\n",
              "      <td>NaN</td>\n",
              "    </tr>\n",
              "  </tbody>\n",
              "</table>\n",
              "</div>"
            ],
            "text/plain": [
              "        date  b1  b2  b3  b4  b5  pb   pp    jackpot  winner\n",
              "0  5/30/2020  32  13  58  41  60  14  2.0  125000000     NaN\n",
              "1  5/27/2020  58  38  59  64  68  21  3.0  114000000     NaN\n",
              "2  5/23/2020   2  23   8  18  21  16  4.0  104000000     NaN\n",
              "3  5/20/2020  42  40  50  18  34   9  2.0   95000000     NaN\n",
              "4  5/16/2020   8  12  26  42  39  11  2.0   86000000     NaN"
            ]
          },
          "metadata": {
            "tags": []
          },
          "execution_count": 22
        }
      ]
    },
    {
      "cell_type": "code",
      "metadata": {
        "id": "yf1gKxEBYq3A",
        "colab_type": "code",
        "colab": {}
      },
      "source": [
        "pb_df['winner'] = int(0)"
      ],
      "execution_count": 0,
      "outputs": []
    },
    {
      "cell_type": "code",
      "metadata": {
        "id": "1tue3WZ5Yq6i",
        "colab_type": "code",
        "colab": {
          "base_uri": "https://localhost:8080/",
          "height": 203
        },
        "outputId": "d3232bf1-b391-4128-e691-1db426c7e30c"
      },
      "source": [
        "pb_df.head()"
      ],
      "execution_count": 24,
      "outputs": [
        {
          "output_type": "execute_result",
          "data": {
            "text/html": [
              "<div>\n",
              "<style scoped>\n",
              "    .dataframe tbody tr th:only-of-type {\n",
              "        vertical-align: middle;\n",
              "    }\n",
              "\n",
              "    .dataframe tbody tr th {\n",
              "        vertical-align: top;\n",
              "    }\n",
              "\n",
              "    .dataframe thead th {\n",
              "        text-align: right;\n",
              "    }\n",
              "</style>\n",
              "<table border=\"1\" class=\"dataframe\">\n",
              "  <thead>\n",
              "    <tr style=\"text-align: right;\">\n",
              "      <th></th>\n",
              "      <th>date</th>\n",
              "      <th>b1</th>\n",
              "      <th>b2</th>\n",
              "      <th>b3</th>\n",
              "      <th>b4</th>\n",
              "      <th>b5</th>\n",
              "      <th>pb</th>\n",
              "      <th>pp</th>\n",
              "      <th>jackpot</th>\n",
              "      <th>winner</th>\n",
              "    </tr>\n",
              "  </thead>\n",
              "  <tbody>\n",
              "    <tr>\n",
              "      <th>0</th>\n",
              "      <td>5/30/2020</td>\n",
              "      <td>32</td>\n",
              "      <td>13</td>\n",
              "      <td>58</td>\n",
              "      <td>41</td>\n",
              "      <td>60</td>\n",
              "      <td>14</td>\n",
              "      <td>2.0</td>\n",
              "      <td>125000000</td>\n",
              "      <td>0</td>\n",
              "    </tr>\n",
              "    <tr>\n",
              "      <th>1</th>\n",
              "      <td>5/27/2020</td>\n",
              "      <td>58</td>\n",
              "      <td>38</td>\n",
              "      <td>59</td>\n",
              "      <td>64</td>\n",
              "      <td>68</td>\n",
              "      <td>21</td>\n",
              "      <td>3.0</td>\n",
              "      <td>114000000</td>\n",
              "      <td>0</td>\n",
              "    </tr>\n",
              "    <tr>\n",
              "      <th>2</th>\n",
              "      <td>5/23/2020</td>\n",
              "      <td>2</td>\n",
              "      <td>23</td>\n",
              "      <td>8</td>\n",
              "      <td>18</td>\n",
              "      <td>21</td>\n",
              "      <td>16</td>\n",
              "      <td>4.0</td>\n",
              "      <td>104000000</td>\n",
              "      <td>0</td>\n",
              "    </tr>\n",
              "    <tr>\n",
              "      <th>3</th>\n",
              "      <td>5/20/2020</td>\n",
              "      <td>42</td>\n",
              "      <td>40</td>\n",
              "      <td>50</td>\n",
              "      <td>18</td>\n",
              "      <td>34</td>\n",
              "      <td>9</td>\n",
              "      <td>2.0</td>\n",
              "      <td>95000000</td>\n",
              "      <td>0</td>\n",
              "    </tr>\n",
              "    <tr>\n",
              "      <th>4</th>\n",
              "      <td>5/16/2020</td>\n",
              "      <td>8</td>\n",
              "      <td>12</td>\n",
              "      <td>26</td>\n",
              "      <td>42</td>\n",
              "      <td>39</td>\n",
              "      <td>11</td>\n",
              "      <td>2.0</td>\n",
              "      <td>86000000</td>\n",
              "      <td>0</td>\n",
              "    </tr>\n",
              "  </tbody>\n",
              "</table>\n",
              "</div>"
            ],
            "text/plain": [
              "        date  b1  b2  b3  b4  b5  pb   pp    jackpot  winner\n",
              "0  5/30/2020  32  13  58  41  60  14  2.0  125000000       0\n",
              "1  5/27/2020  58  38  59  64  68  21  3.0  114000000       0\n",
              "2  5/23/2020   2  23   8  18  21  16  4.0  104000000       0\n",
              "3  5/20/2020  42  40  50  18  34   9  2.0   95000000       0\n",
              "4  5/16/2020   8  12  26  42  39  11  2.0   86000000       0"
            ]
          },
          "metadata": {
            "tags": []
          },
          "execution_count": 24
        }
      ]
    },
    {
      "cell_type": "code",
      "metadata": {
        "id": "DhSQBmbuYrJj",
        "colab_type": "code",
        "colab": {}
      },
      "source": [
        "\n",
        "\n"
      ],
      "execution_count": 0,
      "outputs": []
    },
    {
      "cell_type": "code",
      "metadata": {
        "id": "QL_9oTWeYrM4",
        "colab_type": "code",
        "colab": {}
      },
      "source": [
        ""
      ],
      "execution_count": 0,
      "outputs": []
    },
    {
      "cell_type": "code",
      "metadata": {
        "id": "ZGduIt0dYnW1",
        "colab_type": "code",
        "colab": {}
      },
      "source": [
        "\t\n",
        "df['Event'].mask(df['Event'] == 'Hip-Hop', 'Jazz', inplace=True)"
      ],
      "execution_count": 0,
      "outputs": []
    },
    {
      "cell_type": "code",
      "metadata": {
        "id": "AfaE3dScYnZ7",
        "colab_type": "code",
        "colab": {}
      },
      "source": [
        "pb_df['date']"
      ],
      "execution_count": 0,
      "outputs": []
    },
    {
      "cell_type": "markdown",
      "metadata": {
        "id": "mqHj8t7VSbu-",
        "colab_type": "text"
      },
      "source": [
        "#  Is your problem regression or classification?\n"
      ]
    },
    {
      "cell_type": "code",
      "metadata": {
        "id": "4zzVgVKLTR7h",
        "colab_type": "code",
        "colab": {}
      },
      "source": [
        ""
      ],
      "execution_count": 0,
      "outputs": []
    },
    {
      "cell_type": "markdown",
      "metadata": {
        "id": "niV5Hvm1SgAB",
        "colab_type": "text"
      },
      "source": [
        "#  How is your target distributed?\n",
        "Classification: How many classes? Are the classes imbalanced?\n",
        "Regression: Is the target right-skewed? If so, you may want to log transform the target.\n"
      ]
    },
    {
      "cell_type": "code",
      "metadata": {
        "id": "HrGDOdMYTQp3",
        "colab_type": "code",
        "colab": {}
      },
      "source": [
        ""
      ],
      "execution_count": 0,
      "outputs": []
    },
    {
      "cell_type": "markdown",
      "metadata": {
        "id": "jEBpGimfSwdf",
        "colab_type": "text"
      },
      "source": [
        "#  Choose your evaluation metric(s).\n",
        "Classification: Is your majority class frequency >= 50% and < 70% ? If so, you can just use accuracy if you want. Outside that range, accuracy could be misleading. What evaluation metric will you choose, in addition to or instead of accuracy?\n",
        "Regression: Will you use mean absolute error, root mean squared error, R^2, or other regression metrics?\n"
      ]
    },
    {
      "cell_type": "code",
      "metadata": {
        "id": "w5RCXDkmTP7F",
        "colab_type": "code",
        "colab": {}
      },
      "source": [
        ""
      ],
      "execution_count": 0,
      "outputs": []
    },
    {
      "cell_type": "markdown",
      "metadata": {
        "id": "n4g2cVz2S3u6",
        "colab_type": "text"
      },
      "source": [
        "#  Choose which observations you will use to train, validate, and test your model.\n",
        "Are some observations outliers? Will you exclude them?\n",
        "Will you do a random split or a time-based split?\n"
      ]
    },
    {
      "cell_type": "code",
      "metadata": {
        "id": "KOo0gReWTOHD",
        "colab_type": "code",
        "colab": {}
      },
      "source": [
        ""
      ],
      "execution_count": 0,
      "outputs": []
    },
    {
      "cell_type": "markdown",
      "metadata": {
        "id": "-h280X1TTEAN",
        "colab_type": "text"
      },
      "source": [
        "#  Begin to clean and explore your data.\n"
      ]
    },
    {
      "cell_type": "code",
      "metadata": {
        "id": "U11uTtDTTNGO",
        "colab_type": "code",
        "colab": {}
      },
      "source": [
        ""
      ],
      "execution_count": 0,
      "outputs": []
    },
    {
      "cell_type": "markdown",
      "metadata": {
        "id": "wAWni7wBTIH-",
        "colab_type": "text"
      },
      "source": [
        "#  Begin to choose which features, if any, to exclude. Would some features \"leak\" future information?"
      ]
    },
    {
      "cell_type": "code",
      "metadata": {
        "id": "W38Y8850TL7X",
        "colab_type": "code",
        "colab": {}
      },
      "source": [
        ""
      ],
      "execution_count": 0,
      "outputs": []
    }
  ]
}